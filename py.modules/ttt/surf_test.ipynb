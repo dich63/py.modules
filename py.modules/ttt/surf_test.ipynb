{
 "cells": [
  {
   "cell_type": "code",
   "execution_count": 4,
   "id": "attempted-gilbert",
   "metadata": {
    "scrolled": true
   },
   "outputs": [
    {
     "data": {
      "application/vnd.jupyter.widget-view+json": {
       "model_id": "50fdbf2160be4bc5822469423aa1c095",
       "version_major": 2,
       "version_minor": 0
      },
      "text/plain": [
       "Plot(antialias=3, axes=['X', 'Y', 'F'], axes_helper=1.0, background_color=16777215, camera=[2, -3, 0.2, 0.0, 0…"
      ]
     },
     "metadata": {},
     "output_type": "display_data"
    }
   ],
   "source": [
    "import numpy as np\n",
    "from plots.k3dsurf import surf,cmps\n",
    "\n",
    "\n",
    "#surf(cmp=cmps.viridis)\n",
    "surf()\n"
   ]
  },
  {
   "cell_type": "code",
   "execution_count": null,
   "id": "scenic-albany",
   "metadata": {},
   "outputs": [],
   "source": [
    "cmps.__dict__\n"
   ]
  },
  {
   "cell_type": "code",
   "execution_count": 6,
   "id": "native-jewel",
   "metadata": {},
   "outputs": [
    {
     "data": {
      "application/vnd.jupyter.widget-view+json": {
       "model_id": "ae35c2ce666e412f8ac86804a6b11172",
       "version_major": 2,
       "version_minor": 0
      },
      "text/plain": [
       "Output()"
      ]
     },
     "metadata": {},
     "output_type": "display_data"
    },
    {
     "data": {
      "application/vnd.jupyter.widget-view+json": {
       "model_id": "bc68f9bb20b54876b9839e476b1d8b85",
       "version_major": 2,
       "version_minor": 0
      },
      "text/plain": [
       "Plot(antialias=3, axes=['X', 'Y', 'F'], axes_helper=1.0, background_color=16777215, camera=[2, -3, 0.2, 0.0, 0…"
      ]
     },
     "metadata": {},
     "output_type": "display_data"
    }
   ],
   "source": [
    "#surf(lambda x,y : np.sin(x*y),cmp=cmps.hsv)\n",
    "surf(lambda x,y : np.sin(x*y),cmp=cmps.twilight_shifted).display()\n",
    "surf(lambda x,y : np.sin(x*y),cmp=cmps.jet)"
   ]
  },
  {
   "cell_type": "code",
   "execution_count": 5,
   "id": "changing-genome",
   "metadata": {},
   "outputs": [
    {
     "data": {
      "application/vnd.jupyter.widget-view+json": {
       "model_id": "254b2eb75f0845b9af1c7e71d6d7695a",
       "version_major": 2,
       "version_minor": 0
      },
      "text/plain": [
       "Plot(antialias=3, axes=['X', 'Y', 'F'], axes_helper=1.0, background_color=16777215, camera=[2, -3, 0.2, 0.0, 0…"
      ]
     },
     "metadata": {},
     "output_type": "display_data"
    }
   ],
   "source": [
    "X,Y=np.meshgrid(np.linspace(-1.,1.,200),np.linspace(-2.,2.,300))\n",
    "F=-X*X+Y*Y\n",
    "surf(F,(X,Y))\n"
   ]
  },
  {
   "cell_type": "code",
   "execution_count": null,
   "id": "described-dining",
   "metadata": {},
   "outputs": [],
   "source": []
  }
 ],
 "metadata": {
  "kernelspec": {
   "display_name": "Python 3",
   "language": "python",
   "name": "python3"
  },
  "language_info": {
   "codemirror_mode": {
    "name": "ipython",
    "version": 3
   },
   "file_extension": ".py",
   "mimetype": "text/x-python",
   "name": "python",
   "nbconvert_exporter": "python",
   "pygments_lexer": "ipython3",
   "version": "3.7.9"
  }
 },
 "nbformat": 4,
 "nbformat_minor": 5
}
