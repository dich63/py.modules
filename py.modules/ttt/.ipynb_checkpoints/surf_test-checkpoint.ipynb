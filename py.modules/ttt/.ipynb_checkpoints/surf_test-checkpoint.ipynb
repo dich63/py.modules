{
 "cells": [
  {
   "cell_type": "code",
   "execution_count": 1,
   "id": "attempted-gilbert",
   "metadata": {},
   "outputs": [
    {
     "data": {
      "application/vnd.jupyter.widget-view+json": {
       "model_id": "97075aa8844148ebbcb7637ebbd2e1e1",
       "version_major": 2,
       "version_minor": 0
      },
      "text/plain": [
       "Plot(antialias=3, axes=['X', 'Y', 'F'], axes_helper=1.0, background_color=16777215, camera=[2, -3, 0.2, 0.0, 0…"
      ]
     },
     "metadata": {},
     "output_type": "display_data"
    }
   ],
   "source": [
    "import numpy as np\n",
    "from plots.k3dsurf import surf\n",
    "\n",
    "\n",
    "surf()\n"
   ]
  },
  {
   "cell_type": "code",
   "execution_count": 2,
   "id": "native-jewel",
   "metadata": {},
   "outputs": [
    {
     "data": {
      "application/vnd.jupyter.widget-view+json": {
       "model_id": "259922c42506441e8b6f708f3196f1a8",
       "version_major": 2,
       "version_minor": 0
      },
      "text/plain": [
       "Plot(antialias=3, axes=['X', 'Y', 'F'], axes_helper=1.0, background_color=16777215, camera=[2, -3, 0.2, 0.0, 0…"
      ]
     },
     "metadata": {},
     "output_type": "display_data"
    }
   ],
   "source": [
    "surf(lambda x,y : np.sin(x*y))"
   ]
  },
  {
   "cell_type": "code",
   "execution_count": 3,
   "id": "changing-genome",
   "metadata": {},
   "outputs": [
    {
     "data": {
      "application/vnd.jupyter.widget-view+json": {
       "model_id": "48c1d4f6850f442a9b6738ce087649c3",
       "version_major": 2,
       "version_minor": 0
      },
      "text/plain": [
       "Plot(antialias=3, axes=['X', 'Y', 'F'], axes_helper=1.0, background_color=16777215, camera=[2, -3, 0.2, 0.0, 0…"
      ]
     },
     "metadata": {},
     "output_type": "display_data"
    }
   ],
   "source": [
    "X,Y=np.meshgrid(np.linspace(-1.,1.,200),np.linspace(-2.,2.,300))\n",
    "F=-X*X+Y*Y\n",
    "surf(F,(X,Y))\n"
   ]
  },
  {
   "cell_type": "code",
   "execution_count": null,
   "id": "characteristic-officer",
   "metadata": {},
   "outputs": [],
   "source": []
  }
 ],
 "metadata": {
  "kernelspec": {
   "display_name": "Python 3",
   "language": "python",
   "name": "python3"
  },
  "language_info": {
   "codemirror_mode": {
    "name": "ipython",
    "version": 3
   },
   "file_extension": ".py",
   "mimetype": "text/x-python",
   "name": "python",
   "nbconvert_exporter": "python",
   "pygments_lexer": "ipython3",
   "version": "3.7.9"
  }
 },
 "nbformat": 4,
 "nbformat_minor": 5
}
