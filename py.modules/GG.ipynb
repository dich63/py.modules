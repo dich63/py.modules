{
 "cells": [
  {
   "cell_type": "code",
   "execution_count": 1,
   "id": "encouraging-terrorism",
   "metadata": {},
   "outputs": [
    {
     "name": "stdout",
     "output_type": "stream",
     "text": [
      "pid= 15076\n",
      "context_wrapper=D:\\dich\\2019_02_20_04-49-14\\ipc\\py.modules\\NLS\\bin/ictx/ictxwrr.dll\n",
      "nls_pade_lib=D:\\dich\\2019_02_20_04-49-14\\ipc\\py.modules\\NLS\\bin/nls_pade.dll\n",
      "ssf_lib=D:\\dich\\2019_02_20_04-49-14\\ipc\\py.modules\\NLS\\bin/ssf.dll\n"
     ]
    }
   ],
   "source": [
    "from NLS.brizers import *\n",
    "from NLS.nls_adapter import *\n",
    "import cmath\n",
    "import numpy as np\n",
    "from skimage.transform import resize\n",
    "from matplotlib import pyplot as plt\n",
    "from matplotlib.animation import FuncAnimation\n",
    "%matplotlib notebook"
   ]
  },
  {
   "cell_type": "code",
   "execution_count": null,
   "id": "square-territory",
   "metadata": {},
   "outputs": [],
   "source": []
  }
 ],
 "metadata": {
  "kernelspec": {
   "display_name": "Python 3",
   "language": "python",
   "name": "python3"
  },
  "language_info": {
   "codemirror_mode": {
    "name": "ipython",
    "version": 3
   },
   "file_extension": ".py",
   "mimetype": "text/x-python",
   "name": "python",
   "nbconvert_exporter": "python",
   "pygments_lexer": "ipython3",
   "version": "3.9.1"
  }
 },
 "nbformat": 4,
 "nbformat_minor": 5
}
