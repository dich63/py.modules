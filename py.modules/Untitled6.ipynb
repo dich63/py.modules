{
 "cells": [
  {
   "cell_type": "code",
   "execution_count": 1,
   "id": "exterior-insured",
   "metadata": {},
   "outputs": [
    {
     "ename": "LoadError",
     "evalue": "syntax: extra token \"NLS\" after end of expression",
     "output_type": "error",
     "traceback": [
      "syntax: extra token \"NLS\" after end of expression",
      "",
      "Stacktrace:",
      " [1] top-level scope",
      "   @ In[1]:1",
      " [2] eval",
      "   @ .\\boot.jl:360 [inlined]",
      " [3] include_string(mapexpr::typeof(REPL.softscope), mod::Module, code::String, filename::String)",
      "   @ Base .\\loading.jl:1094"
     ]
    }
   ],
   "source": [
    "from NLS.brizers import *"
   ]
  },
  {
   "cell_type": "code",
   "execution_count": 2,
   "id": "consolidated-rental",
   "metadata": {},
   "outputs": [
    {
     "data": {
      "text/plain": [
       "11"
      ]
     },
     "execution_count": 2,
     "metadata": {},
     "output_type": "execute_result"
    }
   ],
   "source": [
    "a"
   ]
  },
  {
   "cell_type": "code",
   "execution_count": 3,
   "id": "loving-ordinary",
   "metadata": {},
   "outputs": [
    {
     "name": "stdout",
     "output_type": "stream",
     "text": [
      "11\n"
     ]
    }
   ],
   "source": [
    "println(a)"
   ]
  },
  {
   "cell_type": "code",
   "execution_count": 5,
   "id": "republican-sussex",
   "metadata": {},
   "outputs": [
    {
     "data": {
      "text/plain": [
       "2-element Vector{Int64}:\n",
       " 1\n",
       " 2"
      ]
     },
     "execution_count": 5,
     "metadata": {},
     "output_type": "execute_result"
    }
   ],
   "source": [
    "a=[1,2]"
   ]
  },
  {
   "cell_type": "code",
   "execution_count": 6,
   "id": "therapeutic-policy",
   "metadata": {},
   "outputs": [
    {
     "data": {
      "text/plain": [
       "2-element Vector{Int64}:\n",
       " 1\n",
       " 2"
      ]
     },
     "execution_count": 6,
     "metadata": {},
     "output_type": "execute_result"
    }
   ],
   "source": [
    "a"
   ]
  },
  {
   "cell_type": "code",
   "execution_count": 7,
   "id": "ethical-letter",
   "metadata": {},
   "outputs": [
    {
     "data": {
      "text/plain": [
       ":sss"
      ]
     },
     "execution_count": 7,
     "metadata": {},
     "output_type": "execute_result"
    }
   ],
   "source": [
    "q=:sss"
   ]
  },
  {
   "cell_type": "code",
   "execution_count": 9,
   "id": "exterior-darkness",
   "metadata": {},
   "outputs": [
    {
     "data": {
      "text/plain": [
       "1.0e-5"
      ]
     },
     "execution_count": 9,
     "metadata": {},
     "output_type": "execute_result"
    }
   ],
   "source": [
    "δ = 0.00001\n"
   ]
  },
  {
   "cell_type": "code",
   "execution_count": 10,
   "id": "continuing-cedar",
   "metadata": {},
   "outputs": [
    {
     "data": {
      "text/plain": [
       "1.0e-5"
      ]
     },
     "execution_count": 10,
     "metadata": {},
     "output_type": "execute_result"
    }
   ],
   "source": [
    "δ"
   ]
  },
  {
   "cell_type": "code",
   "execution_count": 11,
   "id": "recent-saturn",
   "metadata": {},
   "outputs": [
    {
     "data": {
      "text/plain": [
       "11"
      ]
     },
     "execution_count": 11,
     "metadata": {},
     "output_type": "execute_result"
    }
   ],
   "source": [
    "α=11\n"
   ]
  },
  {
   "cell_type": "code",
   "execution_count": 15,
   "id": "short-hartford",
   "metadata": {},
   "outputs": [
    {
     "data": {
      "text/plain": [
       "34.55751918948772"
      ]
     },
     "execution_count": 15,
     "metadata": {},
     "output_type": "execute_result"
    }
   ],
   "source": [
    "β=11*π"
   ]
  },
  {
   "cell_type": "code",
   "execution_count": 16,
   "id": "extreme-breast",
   "metadata": {},
   "outputs": [
    {
     "ename": "LoadError",
     "evalue": "Wrong number of arguments",
     "output_type": "error",
     "traceback": [
      "Wrong number of arguments",
      "",
      "Stacktrace:",
      "  [1] pkgerror(msg::String)",
      "    @ Pkg.Types C:\\buildbot\\worker\\package_win64\\build\\usr\\share\\julia\\stdlib\\v1.6\\Pkg\\src\\Types.jl:55",
      "  [2] Pkg.REPLMode.Command(statement::Pkg.REPLMode.Statement)",
      "    @ Pkg.REPLMode C:\\buildbot\\worker\\package_win64\\build\\usr\\share\\julia\\stdlib\\v1.6\\Pkg\\src\\REPLMode\\REPLMode.jl:368",
      "  [3] iterate",
      "    @ .\\generator.jl:47 [inlined]",
      "  [4] _collect(c::Vector{Pkg.REPLMode.Statement}, itr::Base.Generator{Vector{Pkg.REPLMode.Statement}, Type{Pkg.REPLMode.Command}}, #unused#::Base.EltypeUnknown, isz::Base.HasShape{1})",
      "    @ Base .\\array.jl:691",
      "  [5] collect_similar",
      "    @ .\\array.jl:606 [inlined]",
      "  [6] map",
      "    @ .\\abstractarray.jl:2294 [inlined]",
      "  [7] do_cmd(repl::IJulia.MiniREPL, input::String; do_rethrow::Bool)",
      "    @ Pkg.REPLMode C:\\buildbot\\worker\\package_win64\\build\\usr\\share\\julia\\stdlib\\v1.6\\Pkg\\src\\REPLMode\\REPLMode.jl:383",
      "  [8] top-level scope",
      "    @ In[16]:1",
      "  [9] eval",
      "    @ .\\boot.jl:360 [inlined]",
      " [10] include_string(mapexpr::typeof(REPL.softscope), mod::Module, code::String, filename::String)",
      "    @ Base .\\loading.jl:1094"
     ]
    }
   ],
   "source": [
    "]add"
   ]
  },
  {
   "cell_type": "code",
   "execution_count": 17,
   "id": "handed-grant",
   "metadata": {},
   "outputs": [
    {
     "name": "stderr",
     "output_type": "stream",
     "text": [
      "\u001b[32m\u001b[1m    Updating\u001b[22m\u001b[39m registry at `C:\\Users\\wwww\\.julia\\registries\\General`\n",
      "\u001b[32m\u001b[1m    Updating\u001b[22m\u001b[39m git-repo `https://github.com/JuliaRegistries/General.git`\n",
      "\u001b[32m\u001b[1m   Resolving\u001b[22m\u001b[39m package versions...\n",
      "\u001b[32m\u001b[1m   Installed\u001b[22m\u001b[39m Requires ─ v1.1.3\n",
      "\u001b[32m\u001b[1m   Installed\u001b[22m\u001b[39m Quadmath ─ v0.5.5\n",
      "\u001b[32m\u001b[1m    Updating\u001b[22m\u001b[39m `C:\\Users\\wwww\\.julia\\environments\\v1.6\\Project.toml`\n",
      " \u001b[90m [be4d8f0f] \u001b[39m\u001b[92m+ Quadmath v0.5.5\u001b[39m\n",
      "\u001b[32m\u001b[1m    Updating\u001b[22m\u001b[39m `C:\\Users\\wwww\\.julia\\environments\\v1.6\\Manifest.toml`\n",
      " \u001b[90m [be4d8f0f] \u001b[39m\u001b[92m+ Quadmath v0.5.5\u001b[39m\n",
      " \u001b[90m [ae029012] \u001b[39m\u001b[92m+ Requires v1.1.3\u001b[39m\n",
      "\u001b[32m\u001b[1mPrecompiling\u001b[22m\u001b[39m project...\n",
      "\u001b[32m  ✓ \u001b[39m\u001b[90mRequires\u001b[39m\n",
      "\u001b[32m  ✓ \u001b[39mQuadmath\n",
      "2 dependencies successfully precompiled in 4 seconds (16 already precompiled)\n"
     ]
    }
   ],
   "source": [
    "]add Quadmath"
   ]
  },
  {
   "cell_type": "code",
   "execution_count": 21,
   "id": "compliant-swimming",
   "metadata": {},
   "outputs": [
    {
     "data": {
      "text/plain": [
       "2.00000000000000000000000000000000000e+00"
      ]
     },
     "execution_count": 21,
     "metadata": {},
     "output_type": "execute_result"
    }
   ],
   "source": [
    "f=Float128(2)"
   ]
  },
  {
   "cell_type": "code",
   "execution_count": 7,
   "id": "dried-iceland",
   "metadata": {},
   "outputs": [],
   "source": [
    "using Quadmath"
   ]
  },
  {
   "cell_type": "code",
   "execution_count": 10,
   "id": "sacred-leather",
   "metadata": {},
   "outputs": [
    {
     "data": {
      "text/plain": [
       "cd (generic function with 4 methods)"
      ]
     },
     "execution_count": 10,
     "metadata": {},
     "output_type": "execute_result"
    }
   ],
   "source": [
    "cd"
   ]
  },
  {
   "cell_type": "code",
   "execution_count": 5,
   "id": "fa02f4aa",
   "metadata": {},
   "outputs": [
    {
     "ename": "LoadError",
     "evalue": "UndefVarError: os not defined",
     "output_type": "error",
     "traceback": [
      "UndefVarError: os not defined",
      "",
      "Stacktrace:",
      " [1] top-level scope",
      "   @ In[5]:1",
      " [2] eval",
      "   @ .\\boot.jl:360 [inlined]",
      " [3] include_string(mapexpr::typeof(REPL.softscope), mod::Module, code::String, filename::String)",
      "   @ Base .\\loading.jl:1094"
     ]
    }
   ],
   "source": [
    "os.getcwd()"
   ]
  },
  {
   "cell_type": "code",
   "execution_count": 9,
   "id": "f5a0282e",
   "metadata": {},
   "outputs": [
    {
     "ename": "LoadError",
     "evalue": "ArgumentError: Package sys not found in current path:\n- Run `import Pkg; Pkg.add(\"sys\")` to install the sys package.\n",
     "output_type": "error",
     "traceback": [
      "ArgumentError: Package sys not found in current path:\n- Run `import Pkg; Pkg.add(\"sys\")` to install the sys package.\n",
      "",
      "Stacktrace:",
      " [1] require(into::Module, mod::Symbol)",
      "   @ Base .\\loading.jl:871",
      " [2] eval",
      "   @ .\\boot.jl:360 [inlined]",
      " [3] include_string(mapexpr::typeof(REPL.softscope), mod::Module, code::String, filename::String)",
      "   @ Base .\\loading.jl:1094"
     ]
    }
   ],
   "source": [
    "import sys"
   ]
  },
  {
   "cell_type": "code",
   "execution_count": null,
   "id": "d992ba71",
   "metadata": {},
   "outputs": [],
   "source": []
  }
 ],
 "metadata": {
  "kernelspec": {
   "display_name": "Julia 1.6.0",
   "language": "julia",
   "name": "julia-1.6"
  },
  "language_info": {
   "file_extension": ".jl",
   "mimetype": "application/julia",
   "name": "julia",
   "version": "1.6.0"
  }
 },
 "nbformat": 4,
 "nbformat_minor": 5
}
