{
 "cells": [
  {
   "cell_type": "code",
   "execution_count": 19,
   "id": "db5a9816",
   "metadata": {},
   "outputs": [
    {
     "name": "stdout",
     "output_type": "stream",
     "text": [
      "reduce: 15.043 sec\n",
      "sym2complex: 0.879818 sec                                \n",
      "ilaplace_functor: 0.111273 sec\n"
     ]
    },
    {
     "data": {
      "text/plain": [
       "0.1112729000001309"
      ]
     },
     "execution_count": 19,
     "metadata": {},
     "output_type": "execute_result"
    }
   ],
   "source": [
    "from utils import *\n",
    "from  LIPA2.ilaplace import *\n",
    "    #from jsobj import *\n",
    "    \n",
    "printf('start reduce ...')    \n",
    "tic();\n",
    "#[p,d,q]=sym_reduce([c0,c1,c2,c3],[( [b1,b2,b3] ,g  )]);\n",
    "\n",
    "syms_def(locals(),' c0, c1 ,c0,c1,c2,c3,c4,b1, b2, b3, g, a1, a2, a3, a4, g1')\n",
    "\n",
    "\n",
    "\n",
    "#[p,d,q]=sym_reduce([c0 ,c1,c0,c1,c2,c3],[( [0,b1,b2,b3] ,g  ),([0,0,0,a4],g1)]);\n",
    "\n",
    "[p,d,q]=sym_reduce([(c0,2),(c1,2),c3,c3],[( [0,b1,b2,b3] ,g  ),([0,0,0,a4],g1)]);\n",
    "#[p,d,q]=sym_reduce([c0 ,c1,c0,c1,c2,c3],[( [0,b1,b2,b3] ,g  )]);\n",
    "\n",
    "toc('\\r         \\rreduce:')\n",
    "#jo=arg2jso(c1=1.1,c2=2.3,c3=1.11,c4=21,c0=10j,g=3.11,g1=2j,b1=2.1,b2=1.2,b3=1.1j,a4=2)\n",
    "jo={\n",
    "    c1:-0.015+7j,\n",
    "    c2:-3.2,\n",
    "    c3:-0.13+2j,\n",
    "    c4:-21,\n",
    "    c0:-0.01+2.1j,\n",
    "    g:-1.051+7j,        \n",
    "    b1:2.1e-3,\n",
    "    b2:1.2,\n",
    "    b3:10+1.1j,\n",
    "    g1:-1+2j,\n",
    "    a4:2.0e-2}\n",
    "tic();\n",
    "#pn= subs_keys(p,**to_dict(jo))\n",
    "printf('start sym2complex(subs_keys( ... ')   \n",
    "[pc,dc,qc]=sym2complex(subs_keys([p,d,q],**toargs(jo)))\n",
    "toc('\\r                                                         \\rsym2complex:')\n",
    "printf('start ilaplace_functor( ... ')  \n",
    "tic();\n",
    "GF=ilaplace_functor(pc)\n",
    "F=ilaplace_functor(qc)\n",
    "toc('\\r               \\rilaplace_functor:')\n"
   ]
  },
  {
   "cell_type": "code",
   "execution_count": 22,
   "id": "efe161c9",
   "metadata": {},
   "outputs": [
    {
     "data": {
      "application/vnd.jupyter.widget-view+json": {
       "model_id": "00ceb14a5414422cbfb2afb7ad243610",
       "version_major": 2,
       "version_minor": 0
      },
      "text/plain": [
       "Canvas(toolbar=Toolbar(toolitems=[('Home', 'Reset original view', 'home', 'home'), ('Back', 'Back to previous …"
      ]
     },
     "metadata": {},
     "output_type": "display_data"
    },
    {
     "data": {
      "text/plain": [
       "[<matplotlib.lines.Line2D at 0x17a289ffc48>]"
      ]
     },
     "execution_count": 22,
     "metadata": {},
     "output_type": "execute_result"
    }
   ],
   "source": [
    "import numpy as np\n",
    "%matplotlib inline\n",
    "import matplotlib.pyplot as plt\n",
    "%matplotlib widget\n",
    "fig=plt.figure(figsize=(12,8))\n",
    "#fig.suptitle('sensors data + pure response ', fontsize=16)\n",
    "plt.grid(True,which='major')\n",
    "plt.minorticks_on()\n",
    "plt.grid(True,which='minor',alpha=0.2)\n",
    "tt=np.linspace(0,300,2000)\n",
    "rn=lambda x: x.real/np.max(np.abs(x))\n",
    "#plt.plot(tt,rn(F(tt)),tt,rn(GF(tt)))\n",
    "plt.plot(tt,rn(F(tt)))\n",
    "plt.plot(tt,rn(GF(tt)))"
   ]
  },
  {
   "cell_type": "code",
   "execution_count": 2,
   "id": "41ea38ab",
   "metadata": {},
   "outputs": [
    {
     "ename": "NameError",
     "evalue": "name 'tic' is not defined",
     "output_type": "error",
     "traceback": [
      "\u001b[1;31m---------------------------------------------------------------------------\u001b[0m",
      "\u001b[1;31mNameError\u001b[0m                                 Traceback (most recent call last)",
      "\u001b[1;32m<ipython-input-2-95de8694549d>\u001b[0m in \u001b[0;36m<module>\u001b[1;34m\u001b[0m\n\u001b[1;32m----> 1\u001b[1;33m \u001b[0mtic\u001b[0m\u001b[1;33m(\u001b[0m\u001b[1;33m)\u001b[0m\u001b[1;33m\u001b[0m\u001b[1;33m\u001b[0m\u001b[0m\n\u001b[0m",
      "\u001b[1;31mNameError\u001b[0m: name 'tic' is not defined"
     ]
    }
   ],
   "source": [
    "tic()"
   ]
  },
  {
   "cell_type": "code",
   "execution_count": 23,
   "id": "33eb5e3b",
   "metadata": {},
   "outputs": [
    {
     "ename": "NameError",
     "evalue": "name '__file__' is not defined",
     "output_type": "error",
     "traceback": [
      "\u001b[1;31m---------------------------------------------------------------------------\u001b[0m",
      "\u001b[1;31mNameError\u001b[0m                                 Traceback (most recent call last)",
      "\u001b[1;32m<ipython-input-23-358d5687b810>\u001b[0m in \u001b[0;36m<module>\u001b[1;34m\u001b[0m\n\u001b[1;32m----> 1\u001b[1;33m \u001b[0m__file__\u001b[0m\u001b[1;33m\u001b[0m\u001b[1;33m\u001b[0m\u001b[0m\n\u001b[0m",
      "\u001b[1;31mNameError\u001b[0m: name '__file__' is not defined"
     ]
    }
   ],
   "source": [
    "__file__"
   ]
  },
  {
   "cell_type": "code",
   "execution_count": 26,
   "id": "bd58f3d0",
   "metadata": {},
   "outputs": [
    {
     "data": {
      "text/plain": [
       "'-f'"
      ]
     },
     "execution_count": 26,
     "metadata": {},
     "output_type": "execute_result"
    }
   ],
   "source": [
    "import os,sys\n"
   ]
  },
  {
   "cell_type": "code",
   "execution_count": 29,
   "id": "f2dd0f57",
   "metadata": {},
   "outputs": [],
   "source": [
    "def get_notebook_name_from_dom():\n",
    "    '''Execute JS code to save Jupyter notebook name to variable notebookName'''\n",
    "    from IPython.core.display import Javascript, display_javascript\n",
    "    js = Javascript(\n",
    "        \"\"\"\n",
    "            var theName = window.document.getElementById(\"notebook_name\").innerHTML;\n",
    "            var command = \"notebookName = \" + \"'\" + theName + \"'\";\n",
    "            IPython.notebook.kernel.execute(command);\n",
    "        \"\"\"\n",
    "    )\n",
    "    return display_javascript(js)"
   ]
  },
  {
   "cell_type": "code",
   "execution_count": 32,
   "id": "8f33d6a6",
   "metadata": {},
   "outputs": [
    {
     "data": {
      "application/javascript": [
       "\n",
       "            var theName = window.document.getElementById(\"notebook_name\").innerHTML;\n",
       "            var command = \"notebookName = \" + \"'\" + theName + \"'\";\n",
       "            IPython.notebook.kernel.execute(command);\n",
       "        "
      ]
     },
     "metadata": {},
     "output_type": "display_data"
    }
   ],
   "source": [
    "a=get_notebook_name_from_dom()"
   ]
  },
  {
   "cell_type": "code",
   "execution_count": 33,
   "id": "68810e05",
   "metadata": {},
   "outputs": [
    {
     "data": {
      "text/plain": [
       "NoneType"
      ]
     },
     "execution_count": 33,
     "metadata": {},
     "output_type": "execute_result"
    }
   ],
   "source": [
    "type(a)"
   ]
  },
  {
   "cell_type": "code",
   "execution_count": 34,
   "id": "662c50b7",
   "metadata": {},
   "outputs": [],
   "source": [
    "from IPython.core.display import Javascript, display_javascript"
   ]
  },
  {
   "cell_type": "code",
   "execution_count": 38,
   "id": "bade00c2",
   "metadata": {},
   "outputs": [],
   "source": [
    "import IPython"
   ]
  },
  {
   "cell_type": "code",
   "execution_count": 46,
   "id": "0ad3f6aa",
   "metadata": {},
   "outputs": [
    {
     "data": {
      "application/javascript": [
       "window.document.location.href"
      ]
     },
     "metadata": {},
     "output_type": "display_data"
    }
   ],
   "source": [
    "display_javascript(Javascript('window.document.location.href'))"
   ]
  },
  {
   "cell_type": "code",
   "execution_count": 44,
   "id": "1f48bfed",
   "metadata": {},
   "outputs": [
    {
     "ename": "AttributeError",
     "evalue": "module 'IPython' has no attribute 'foo'",
     "output_type": "error",
     "traceback": [
      "\u001b[1;31m---------------------------------------------------------------------------\u001b[0m",
      "\u001b[1;31mAttributeError\u001b[0m                            Traceback (most recent call last)",
      "\u001b[1;32m<ipython-input-44-421fc0176143>\u001b[0m in \u001b[0;36m<module>\u001b[1;34m\u001b[0m\n\u001b[1;32m----> 1\u001b[1;33m \u001b[0mIPython\u001b[0m\u001b[1;33m.\u001b[0m\u001b[0mfoo\u001b[0m\u001b[1;33m.\u001b[0m\u001b[0mbar\u001b[0m\u001b[1;33m.\u001b[0m\u001b[0mnotebookname\u001b[0m\u001b[1;33m(\u001b[0m\u001b[1;33m)\u001b[0m\u001b[1;33m\u001b[0m\u001b[1;33m\u001b[0m\u001b[0m\n\u001b[0m",
      "\u001b[1;31mAttributeError\u001b[0m: module 'IPython' has no attribute 'foo'"
     ]
    }
   ],
   "source": [
    "IPython.foo.bar.notebookname()"
   ]
  },
  {
   "cell_type": "code",
   "execution_count": 50,
   "id": "83de9bd4",
   "metadata": {},
   "outputs": [],
   "source": [
    "from notebookjs import execute_js"
   ]
  },
  {
   "cell_type": "code",
   "execution_count": 52,
   "id": "e0839474",
   "metadata": {},
   "outputs": [
    {
     "ename": "TypeError",
     "evalue": "execute_js() missing 1 required positional argument: 'main_function'",
     "output_type": "error",
     "traceback": [
      "\u001b[1;31m---------------------------------------------------------------------------\u001b[0m",
      "\u001b[1;31mTypeError\u001b[0m                                 Traceback (most recent call last)",
      "\u001b[1;32m<ipython-input-52-6065442eb769>\u001b[0m in \u001b[0;36m<module>\u001b[1;34m\u001b[0m\n\u001b[1;32m----> 1\u001b[1;33m \u001b[0mexecute_js\u001b[0m\u001b[1;33m(\u001b[0m\u001b[1;34m'window.location.href'\u001b[0m\u001b[1;33m)\u001b[0m\u001b[1;33m\u001b[0m\u001b[1;33m\u001b[0m\u001b[0m\n\u001b[0m",
      "\u001b[1;31mTypeError\u001b[0m: execute_js() missing 1 required positional argument: 'main_function'"
     ]
    }
   ],
   "source": [
    "execute_js('window.location.href')"
   ]
  },
  {
   "cell_type": "code",
   "execution_count": 53,
   "id": "da1c97cc",
   "metadata": {},
   "outputs": [
    {
     "ename": "TypeError",
     "evalue": "execute_js() missing 1 required positional argument: 'main_function'",
     "output_type": "error",
     "traceback": [
      "\u001b[1;31m---------------------------------------------------------------------------\u001b[0m",
      "\u001b[1;31mTypeError\u001b[0m                                 Traceback (most recent call last)",
      "\u001b[1;32m<ipython-input-53-5d86a67ceffb>\u001b[0m in \u001b[0;36m<module>\u001b[1;34m\u001b[0m\n\u001b[1;32m----> 1\u001b[1;33m \u001b[0mexecute_js\u001b[0m\u001b[1;33m(\u001b[0m\u001b[1;34m'typeof window'\u001b[0m\u001b[1;33m)\u001b[0m\u001b[1;33m\u001b[0m\u001b[1;33m\u001b[0m\u001b[0m\n\u001b[0m",
      "\u001b[1;31mTypeError\u001b[0m: execute_js() missing 1 required positional argument: 'main_function'"
     ]
    }
   ],
   "source": [
    "execute_js('typeof window')"
   ]
  },
  {
   "cell_type": "code",
   "execution_count": 55,
   "id": "87ad64a5",
   "metadata": {},
   "outputs": [
    {
     "data": {
      "text/plain": [
       "10"
      ]
     },
     "execution_count": 55,
     "metadata": {},
     "output_type": "execute_result"
    }
   ],
   "source": [
    "open('QQQ.txt','w').write('aaaaaaaaaa')"
   ]
  },
  {
   "cell_type": "code",
   "execution_count": 57,
   "id": "4bc8e1b2",
   "metadata": {},
   "outputs": [
    {
     "data": {
      "application/javascript": [
       "IPython.notebook.kernel.execute('nb_name = \"' + IPython.notebook.notebook_name + '\"')\n"
      ],
      "text/plain": [
       "<IPython.core.display.Javascript object>"
      ]
     },
     "metadata": {},
     "output_type": "display_data"
    }
   ],
   "source": [
    "%%javascript\n",
    "IPython.notebook.kernel.execute('nb_name = \"' + IPython.notebook.notebook_name + '\"')"
   ]
  },
  {
   "cell_type": "code",
   "execution_count": 58,
   "id": "0e47cc8b",
   "metadata": {},
   "outputs": [
    {
     "data": {
      "text/plain": [
       "'ilapl.ipynb'"
      ]
     },
     "execution_count": 58,
     "metadata": {},
     "output_type": "execute_result"
    }
   ],
   "source": [
    "nb_name"
   ]
  },
  {
   "cell_type": "code",
   "execution_count": null,
   "id": "afd75f02",
   "metadata": {},
   "outputs": [],
   "source": []
  }
 ],
 "metadata": {
  "kernelspec": {
   "display_name": "Python 3",
   "language": "python",
   "name": "python3"
  },
  "language_info": {
   "codemirror_mode": {
    "name": "ipython",
    "version": 3
   },
   "file_extension": ".py",
   "mimetype": "text/x-python",
   "name": "python",
   "nbconvert_exporter": "python",
   "pygments_lexer": "ipython3",
   "version": "3.7.9"
  }
 },
 "nbformat": 4,
 "nbformat_minor": 5
}
