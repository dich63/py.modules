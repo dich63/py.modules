{
 "cells": [
  {
   "cell_type": "code",
   "execution_count": 4,
   "id": "db5a9816",
   "metadata": {},
   "outputs": [
    {
     "name": "stdout",
     "output_type": "stream",
     "text": [
      "reduce: 0.0177883 sec\n",
      "functors: 2.9081 sec\n"
     ]
    },
    {
     "data": {
      "text/plain": [
       "2.9081033999999875"
      ]
     },
     "execution_count": 4,
     "metadata": {},
     "output_type": "execute_result"
    }
   ],
   "source": [
    "from LIPA2.ilaplace import *\n",
    "from LIPA2.qp_solver import *\n",
    "\n",
    "from utils import *\n",
    "from utils.interpolate_1D import *\n",
    "\n",
    "\n",
    "import numpy as np\n",
    "norm=np.linalg.norm\n",
    "\n",
    "syms_def(locals(),' c0, c1 ,c0,c1,c2,c3,c4,b1, b2, b3, b4, g, a1, a2, a3, a4, g1')\n",
    "\n",
    "tic();\n",
    "\n",
    "import dill\n",
    "dill.settings['recurse'] = True\n",
    "\n",
    "fname='ilapi0.ipynb.picle'\n",
    "if 0:\n",
    "    #[p,d,q]=sym_reduce([g],[( [b1,b2,b3,b4] ,g  )]);\n",
    "    [p,d,q]=sym_reduce([c0,c1,c2,c3],[( [b1,b2,b3,b4] ,g  )]);\n",
    "    dill.dump([p,d,q],open(fname,'wb'))\n",
    "else:\n",
    "    [p,d,q]=dill.load(open(fname,'rb'))\n",
    "    \n",
    "#[p,d,q]=sym_reduce([c0 ,c1,c0,c1,c2,c3],[( [0,b1,b2,b3] ,g  )]);\n",
    "\n",
    "toc('reduce:')\n",
    "#jo=arg2jso(c1=1.1,c2=2.3,c3=1.11,c4=21,c0=10j,g=3.11,g1=2j,b1=2.1,b2=1.2,b3=1.1j,a4=2)\n",
    "jo={\n",
    "    \n",
    "    c0:-5.5+250j,\n",
    "    c1:-5.5-250.5j,\n",
    "    c2:-1.5+253j,\n",
    "    c3:-1.5-253j,\n",
    "    c4:-21,\n",
    "    \n",
    "    g:-17.5+250j,\n",
    "    #g:0,                \n",
    "    b1:0,\n",
    "    b2:-1j,\n",
    "    b3:0,\n",
    "    b4:1,\n",
    "    }\n",
    "\n",
    "\n",
    "\n",
    "tic();\n",
    "nd=0\n",
    "nnd=5\n",
    "'''\n",
    "[GF,exg]=ilaplace_functor(p,jo,nd)\n",
    "[F,exf]=ilaplace_functor(q,jo)\n",
    "'''\n",
    "\n",
    "jetGF=ilaplace_jet(p,jo)\n",
    "jetF=ilaplace_jet(q,jo)\n",
    "\n",
    "GF=jetGF(range(nnd))\n",
    "F=jetF(range(nnd))\n",
    "\n",
    "toc('functors:')\n",
    "\n"
   ]
  },
  {
   "cell_type": "code",
   "execution_count": 5,
   "id": "efe161c9",
   "metadata": {},
   "outputs": [
    {
     "data": {
      "application/vnd.jupyter.widget-view+json": {
       "model_id": "bd4f73b024f54c3dabf718aaca3bb104",
       "version_major": 2,
       "version_minor": 0
      },
      "text/plain": [
       "Canvas(toolbar=Toolbar(toolitems=[('Home', 'Reset original view', 'home', 'home'), ('Back', 'Back to previous …"
      ]
     },
     "metadata": {},
     "output_type": "display_data"
    },
    {
     "data": {
      "text/plain": [
       "''"
      ]
     },
     "execution_count": 5,
     "metadata": {},
     "output_type": "execute_result"
    }
   ],
   "source": [
    "import numpy as np\n",
    "%matplotlib inline\n",
    "import matplotlib.pyplot as plt\n",
    "%matplotlib widget\n",
    "#fig=plt.figure(figsize=(12,8))\n",
    "fig, ax = plt.subplots(figsize=(12,8))\n",
    "#fig.suptitle('sensors data + pure response ', fontsize=16)\n",
    "ax.grid(True,which='major')\n",
    "ax.minorticks_on()\n",
    "ax.grid(True,which='minor',alpha=0.2)\n",
    "tt=np.linspace(0,10,7200)\n",
    "rn=lambda x: x.real/np.max(np.abs(x.real))\n",
    "#plt.plot(tt,rn(F(tt)),tt,rn(GF(tt)))\n",
    "\n",
    "nd=0\n",
    "ax.plot(tt,rn(F(tt)[nd]),label='F')\n",
    "ax.plot(tt,rn(GF(tt)[nd]),label='G');\n",
    "legend = ax.legend(loc='upper right', shadow=True, fontsize='x-large')\n",
    "''\n"
   ]
  },
  {
   "cell_type": "code",
   "execution_count": 6,
   "id": "208d3e95",
   "metadata": {},
   "outputs": [
    {
     "data": {
      "application/vnd.jupyter.widget-view+json": {
       "model_id": "b29e61d50c2b4aa28ebeecc91da78deb",
       "version_major": 2,
       "version_minor": 0
      },
      "text/plain": [
       "Canvas(toolbar=Toolbar(toolitems=[('Home', 'Reset original view', 'home', 'home'), ('Back', 'Back to previous …"
      ]
     },
     "metadata": {},
     "output_type": "display_data"
    },
    {
     "data": {
      "text/plain": [
       "Text(0.5, 1.0, 'error=0.01723%\\n')"
      ]
     },
     "execution_count": 6,
     "metadata": {},
     "output_type": "execute_result"
    }
   ],
   "source": [
    "[DC,QP,G,FF]=make_lipa_data(d,q,jo);\n",
    "\n",
    "LM=[6,8]\n",
    "LM=[10,12]\n",
    "\n",
    "dt=0.0225*1.8\n",
    "\n",
    "'''\n",
    "print(QP.shape)\n",
    "print(G.shape)\n",
    "print(FF.shape)\n",
    "'''\n",
    "lqp=lipa_qp_number(DC,LM=LM,FF=FF,qp=QP,g=G,nd=8).reset(dt);\n",
    "nd=0\n",
    "nt=100\n",
    "tt=dt*np.arange(1,nt+1)\n",
    "tm=np.max(tt)\n",
    "ttx=np.linspace(0,tm,10000)\n",
    "x=GF(tt)[nd]\n",
    "ynn=lqp.dump(nt)\n",
    "ynn=ynn.reshape(ynn.shape[0],-1).T\n",
    "y=ynn[nd]\n",
    "deg=ynn.shape[0]-1\n",
    "\n",
    "jG=jet_spline(tt,ynn,deg=7)\n",
    "\n",
    "err=norm(x-y)/norm(x);\n",
    "#fig2=plt.figure(figsize=(12,8))\n",
    "fig2, ax2 = plt.subplots(figsize=(12,8))\n",
    "\n",
    "if 1:\n",
    "    ax2.plot(ttx,GF(ttx)[nd].real,label='exact')\n",
    "    ax2.plot(ttx,jG(ttx).real,label='spline')\n",
    "    ax2.plot(tt,y.real, marker='o',linewidth=0,label='step point')\n",
    "else:\n",
    "    ax2.plot(tt,y.real, marker='o',linewidth=0,label='step point')\n",
    "legend = ax2.legend(loc='upper right', shadow=True, fontsize='x-large')\n",
    "#print(x)    \n",
    "#print(y[0])    \n",
    "s=sprintf('error=%3.4g%%\\n',100*err)\n",
    "\n",
    "ax2.set_title(s)"
   ]
  },
  {
   "cell_type": "code",
   "execution_count": 15,
   "id": "58c78b20",
   "metadata": {},
   "outputs": [
    {
     "data": {
      "text/plain": [
       "7"
      ]
     },
     "execution_count": 15,
     "metadata": {},
     "output_type": "execute_result"
    }
   ],
   "source": [
    "deg"
   ]
  },
  {
   "cell_type": "code",
   "execution_count": null,
   "id": "5aedea63",
   "metadata": {},
   "outputs": [],
   "source": [
    "plt.plot(tt,y, marker='o',linewidth=0)"
   ]
  },
  {
   "cell_type": "code",
   "execution_count": null,
   "id": "78079183",
   "metadata": {},
   "outputs": [],
   "source": [
    "fig, ax = plt.subplots(figsize=(12,8))\n",
    "ax.plot(tt,y.real, marker='o',linewidth=0,label='ss')\n",
    "#legend = ax.legend(loc='upper center', shadow=True, fontsize='x-large')\n"
   ]
  },
  {
   "cell_type": "code",
   "execution_count": 5,
   "id": "9dab6adb",
   "metadata": {},
   "outputs": [
    {
     "data": {
      "text/latex": [
       "$\\displaystyle \\left(\\frac{b_{1}}{\\left(- c_{0} + c_{1}\\right) \\left(c_{1} - c_{2}\\right) \\left(c_{1} - c_{3}\\right) \\left(c_{1} - g\\right)} + \\frac{b_{2}}{\\left(- c_{0} + c_{1}\\right) \\left(c_{1} - c_{2}\\right) \\left(c_{1} - c_{3}\\right) \\left(c_{1} - g\\right)^{2}} + \\frac{b_{3}}{\\left(- c_{0} + c_{1}\\right) \\left(c_{1} - c_{2}\\right) \\left(c_{1} - c_{3}\\right) \\left(c_{1} - g\\right)^{3}} + \\frac{b_{4}}{\\left(- c_{0} + c_{1}\\right) \\left(c_{1} - c_{2}\\right) \\left(c_{1} - c_{3}\\right) \\left(c_{1} - g\\right)^{4}}\\right) e^{c_{1} t} + \\left(\\frac{b_{1}}{\\left(- c_{0} + c_{2}\\right) \\left(- c_{1} + c_{2}\\right) \\left(c_{2} - c_{3}\\right) \\left(c_{2} - g\\right)} + \\frac{b_{2}}{\\left(- c_{0} + c_{2}\\right) \\left(- c_{1} + c_{2}\\right) \\left(c_{2} - c_{3}\\right) \\left(c_{2} - g\\right)^{2}} + \\frac{b_{3}}{\\left(- c_{0} + c_{2}\\right) \\left(- c_{1} + c_{2}\\right) \\left(c_{2} - c_{3}\\right) \\left(c_{2} - g\\right)^{3}} + \\frac{b_{4}}{\\left(- c_{0} + c_{2}\\right) \\left(- c_{1} + c_{2}\\right) \\left(c_{2} - c_{3}\\right) \\left(c_{2} - g\\right)^{4}}\\right) e^{c_{2} t} + \\left(\\frac{b_{1}}{\\left(- c_{0} + c_{3}\\right) \\left(- c_{1} + c_{3}\\right) \\left(- c_{2} + c_{3}\\right) \\left(c_{3} - g\\right)} + \\frac{b_{2}}{\\left(- c_{0} + c_{3}\\right) \\left(- c_{1} + c_{3}\\right) \\left(- c_{2} + c_{3}\\right) \\left(c_{3} - g\\right)^{2}} + \\frac{b_{3}}{\\left(- c_{0} + c_{3}\\right) \\left(- c_{1} + c_{3}\\right) \\left(- c_{2} + c_{3}\\right) \\left(c_{3} - g\\right)^{3}} + \\frac{b_{4}}{\\left(- c_{0} + c_{3}\\right) \\left(- c_{1} + c_{3}\\right) \\left(- c_{2} + c_{3}\\right) \\left(c_{3} - g\\right)^{4}}\\right) e^{c_{3} t} + \\left(\\frac{b_{1}}{\\left(c_{0} - c_{1}\\right) \\left(c_{0} - c_{2}\\right) \\left(c_{0} - c_{3}\\right) \\left(c_{0} - g\\right)} + \\frac{b_{2}}{\\left(c_{0} - c_{1}\\right) \\left(c_{0} - c_{2}\\right) \\left(c_{0} - c_{3}\\right) \\left(c_{0} - g\\right)^{2}} + \\frac{b_{3}}{\\left(c_{0} - c_{1}\\right) \\left(c_{0} - c_{2}\\right) \\left(c_{0} - c_{3}\\right) \\left(c_{0} - g\\right)^{3}} + \\frac{b_{4}}{\\left(c_{0} - c_{1}\\right) \\left(c_{0} - c_{2}\\right) \\left(c_{0} - c_{3}\\right) \\left(c_{0} - g\\right)^{4}}\\right) e^{c_{0} t} + \\left(\\frac{b_{4} t^{3}}{6 \\left(- c_{0} + g\\right) \\left(- c_{1} + g\\right) \\left(- c_{2} + g\\right) \\left(- c_{3} + g\\right)} + t^{2} \\left(\\frac{b_{3}}{2 \\left(- c_{0} + g\\right) \\left(- c_{1} + g\\right) \\left(- c_{2} + g\\right) \\left(- c_{3} + g\\right)} + \\frac{b_{4}}{2 \\left(- c_{0} + g\\right) \\left(- c_{1} + g\\right) \\left(- c_{2} + g\\right) \\left(- c_{3} + g\\right) \\left(c_{3} - g\\right)} + \\frac{b_{4}}{2 \\left(- c_{0} + g\\right) \\left(- c_{1} + g\\right) \\left(- c_{2} + g\\right) \\left(c_{2} - g\\right) \\left(- c_{3} + g\\right)} + \\frac{b_{4}}{2 \\left(- c_{0} + g\\right) \\left(- c_{1} + g\\right) \\left(c_{1} - g\\right) \\left(- c_{2} + g\\right) \\left(- c_{3} + g\\right)} + \\frac{b_{4}}{2 \\left(- c_{0} + g\\right) \\left(c_{0} - g\\right) \\left(- c_{1} + g\\right) \\left(- c_{2} + g\\right) \\left(- c_{3} + g\\right)}\\right) + \\frac{t \\left(b_{2} + \\frac{b_{3}}{c_{3} - g} + \\frac{b_{3}}{c_{2} - g} + \\frac{b_{3}}{c_{1} - g} + \\frac{b_{3}}{c_{0} - g} + \\frac{b_{4}}{\\left(c_{3} - g\\right)^{2}} + \\frac{b_{4}}{\\left(c_{2} - g\\right) \\left(c_{3} - g\\right)} + \\frac{b_{4}}{\\left(c_{2} - g\\right)^{2}} + \\frac{b_{4}}{\\left(c_{1} - g\\right) \\left(c_{3} - g\\right)} + \\frac{b_{4}}{\\left(c_{1} - g\\right) \\left(c_{2} - g\\right)} + \\frac{b_{4}}{\\left(c_{1} - g\\right)^{2}} + \\frac{b_{4}}{\\left(c_{0} - g\\right) \\left(c_{3} - g\\right)} + \\frac{b_{4}}{\\left(c_{0} - g\\right) \\left(c_{2} - g\\right)} + \\frac{b_{4}}{\\left(c_{0} - g\\right) \\left(c_{1} - g\\right)} + \\frac{b_{4}}{\\left(c_{0} - g\\right)^{2}}\\right)}{\\left(c_{0} - g\\right) \\left(c_{1} - g\\right) \\left(c_{2} - g\\right) \\left(c_{3} - g\\right)} + \\frac{b_{1} + \\frac{b_{2}}{c_{3} - g} + \\frac{b_{2}}{c_{2} - g} + \\frac{b_{2}}{c_{1} - g} + \\frac{b_{2}}{c_{0} - g} + \\frac{b_{3}}{\\left(c_{3} - g\\right)^{2}} + \\frac{b_{3}}{\\left(c_{2} - g\\right) \\left(c_{3} - g\\right)} + \\frac{b_{3}}{\\left(c_{2} - g\\right)^{2}} + \\frac{b_{3}}{\\left(c_{1} - g\\right) \\left(c_{3} - g\\right)} + \\frac{b_{3}}{\\left(c_{1} - g\\right) \\left(c_{2} - g\\right)} + \\frac{b_{3}}{\\left(c_{1} - g\\right)^{2}} + \\frac{b_{3}}{\\left(c_{0} - g\\right) \\left(c_{3} - g\\right)} + \\frac{b_{3}}{\\left(c_{0} - g\\right) \\left(c_{2} - g\\right)} + \\frac{b_{3}}{\\left(c_{0} - g\\right) \\left(c_{1} - g\\right)} + \\frac{b_{3}}{\\left(c_{0} - g\\right)^{2}} + \\frac{b_{4}}{\\left(c_{3} - g\\right)^{3}} + \\frac{b_{4}}{\\left(c_{2} - g\\right) \\left(c_{3} - g\\right)^{2}} + \\frac{b_{4}}{\\left(c_{2} - g\\right)^{2} \\left(c_{3} - g\\right)} + \\frac{b_{4}}{\\left(c_{2} - g\\right)^{3}} + \\frac{b_{4}}{\\left(c_{1} - g\\right) \\left(c_{3} - g\\right)^{2}} + \\frac{b_{4}}{\\left(c_{1} - g\\right) \\left(c_{2} - g\\right) \\left(c_{3} - g\\right)} + \\frac{b_{4}}{\\left(c_{1} - g\\right) \\left(c_{2} - g\\right)^{2}} + \\frac{b_{4}}{\\left(c_{1} - g\\right)^{2} \\left(c_{3} - g\\right)} + \\frac{b_{4}}{\\left(c_{1} - g\\right)^{2} \\left(c_{2} - g\\right)} + \\frac{b_{4}}{\\left(c_{1} - g\\right)^{3}} + \\frac{b_{4}}{\\left(c_{0} - g\\right) \\left(c_{3} - g\\right)^{2}} + \\frac{b_{4}}{\\left(c_{0} - g\\right) \\left(c_{2} - g\\right) \\left(c_{3} - g\\right)} + \\frac{b_{4}}{\\left(c_{0} - g\\right) \\left(c_{2} - g\\right)^{2}} + \\frac{b_{4}}{\\left(c_{0} - g\\right) \\left(c_{1} - g\\right) \\left(c_{3} - g\\right)} + \\frac{b_{4}}{\\left(c_{0} - g\\right) \\left(c_{1} - g\\right) \\left(c_{2} - g\\right)} + \\frac{b_{4}}{\\left(c_{0} - g\\right) \\left(c_{1} - g\\right)^{2}} + \\frac{b_{4}}{\\left(c_{0} - g\\right)^{2} \\left(c_{3} - g\\right)} + \\frac{b_{4}}{\\left(c_{0} - g\\right)^{2} \\left(c_{2} - g\\right)} + \\frac{b_{4}}{\\left(c_{0} - g\\right)^{2} \\left(c_{1} - g\\right)} + \\frac{b_{4}}{\\left(c_{0} - g\\right)^{3}}}{\\left(c_{0} - g\\right) \\left(c_{1} - g\\right) \\left(c_{2} - g\\right) \\left(c_{3} - g\\right)}\\right) e^{g t}$"
      ],
      "text/plain": [
       "(b1/((-c0 + c1)*(c1 - c2)*(c1 - c3)*(c1 - g)) + b2/((-c0 + c1)*(c1 - c2)*(c1 - c3)*(c1 - g)**2) + b3/((-c0 + c1)*(c1 - c2)*(c1 - c3)*(c1 - g)**3) + b4/((-c0 + c1)*(c1 - c2)*(c1 - c3)*(c1 - g)**4))*exp(c1*t) + (b1/((-c0 + c2)*(-c1 + c2)*(c2 - c3)*(c2 - g)) + b2/((-c0 + c2)*(-c1 + c2)*(c2 - c3)*(c2 - g)**2) + b3/((-c0 + c2)*(-c1 + c2)*(c2 - c3)*(c2 - g)**3) + b4/((-c0 + c2)*(-c1 + c2)*(c2 - c3)*(c2 - g)**4))*exp(c2*t) + (b1/((-c0 + c3)*(-c1 + c3)*(-c2 + c3)*(c3 - g)) + b2/((-c0 + c3)*(-c1 + c3)*(-c2 + c3)*(c3 - g)**2) + b3/((-c0 + c3)*(-c1 + c3)*(-c2 + c3)*(c3 - g)**3) + b4/((-c0 + c3)*(-c1 + c3)*(-c2 + c3)*(c3 - g)**4))*exp(c3*t) + (b1/((c0 - c1)*(c0 - c2)*(c0 - c3)*(c0 - g)) + b2/((c0 - c1)*(c0 - c2)*(c0 - c3)*(c0 - g)**2) + b3/((c0 - c1)*(c0 - c2)*(c0 - c3)*(c0 - g)**3) + b4/((c0 - c1)*(c0 - c2)*(c0 - c3)*(c0 - g)**4))*exp(c0*t) + (b4*t**3/(6*(-c0 + g)*(-c1 + g)*(-c2 + g)*(-c3 + g)) + t**2*(b3/(2*(-c0 + g)*(-c1 + g)*(-c2 + g)*(-c3 + g)) + b4/(2*(-c0 + g)*(-c1 + g)*(-c2 + g)*(-c3 + g)*(c3 - g)) + b4/(2*(-c0 + g)*(-c1 + g)*(-c2 + g)*(c2 - g)*(-c3 + g)) + b4/(2*(-c0 + g)*(-c1 + g)*(c1 - g)*(-c2 + g)*(-c3 + g)) + b4/(2*(-c0 + g)*(c0 - g)*(-c1 + g)*(-c2 + g)*(-c3 + g))) + t*(b2 + b3/(c3 - g) + b3/(c2 - g) + b3/(c1 - g) + b3/(c0 - g) + b4/(c3 - g)**2 + b4/((c2 - g)*(c3 - g)) + b4/(c2 - g)**2 + b4/((c1 - g)*(c3 - g)) + b4/((c1 - g)*(c2 - g)) + b4/(c1 - g)**2 + b4/((c0 - g)*(c3 - g)) + b4/((c0 - g)*(c2 - g)) + b4/((c0 - g)*(c1 - g)) + b4/(c0 - g)**2)/((c0 - g)*(c1 - g)*(c2 - g)*(c3 - g)) + (b1 + b2/(c3 - g) + b2/(c2 - g) + b2/(c1 - g) + b2/(c0 - g) + b3/(c3 - g)**2 + b3/((c2 - g)*(c3 - g)) + b3/(c2 - g)**2 + b3/((c1 - g)*(c3 - g)) + b3/((c1 - g)*(c2 - g)) + b3/(c1 - g)**2 + b3/((c0 - g)*(c3 - g)) + b3/((c0 - g)*(c2 - g)) + b3/((c0 - g)*(c1 - g)) + b3/(c0 - g)**2 + b4/(c3 - g)**3 + b4/((c2 - g)*(c3 - g)**2) + b4/((c2 - g)**2*(c3 - g)) + b4/(c2 - g)**3 + b4/((c1 - g)*(c3 - g)**2) + b4/((c1 - g)*(c2 - g)*(c3 - g)) + b4/((c1 - g)*(c2 - g)**2) + b4/((c1 - g)**2*(c3 - g)) + b4/((c1 - g)**2*(c2 - g)) + b4/(c1 - g)**3 + b4/((c0 - g)*(c3 - g)**2) + b4/((c0 - g)*(c2 - g)*(c3 - g)) + b4/((c0 - g)*(c2 - g)**2) + b4/((c0 - g)*(c1 - g)*(c3 - g)) + b4/((c0 - g)*(c1 - g)*(c2 - g)) + b4/((c0 - g)*(c1 - g)**2) + b4/((c0 - g)**2*(c3 - g)) + b4/((c0 - g)**2*(c2 - g)) + b4/((c0 - g)**2*(c1 - g)) + b4/(c0 - g)**3)/((c0 - g)*(c1 - g)*(c2 - g)*(c3 - g)))*exp(g*t)"
      ]
     },
     "execution_count": 5,
     "metadata": {},
     "output_type": "execute_result"
    }
   ],
   "source": [
    "s=jetGF.getex();s\n"
   ]
  },
  {
   "cell_type": "code",
   "execution_count": null,
   "id": "43334534",
   "metadata": {},
   "outputs": [],
   "source": [
    "p[3][0][0]\n"
   ]
  },
  {
   "cell_type": "code",
   "execution_count": null,
   "id": "aa1e342f",
   "metadata": {},
   "outputs": [],
   "source": [
    "jetGF"
   ]
  }
 ],
 "metadata": {
  "kernelspec": {
   "display_name": "Python 3",
   "language": "python",
   "name": "python3"
  },
  "language_info": {
   "codemirror_mode": {
    "name": "ipython",
    "version": 3
   },
   "file_extension": ".py",
   "mimetype": "text/x-python",
   "name": "python",
   "nbconvert_exporter": "python",
   "pygments_lexer": "ipython3",
   "version": "3.7.9"
  }
 },
 "nbformat": 4,
 "nbformat_minor": 5
}
