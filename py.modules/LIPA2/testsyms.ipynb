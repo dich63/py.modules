{
 "cells": [
  {
   "cell_type": "code",
   "execution_count": 17,
   "id": "db5a9816",
   "metadata": {},
   "outputs": [
    {
     "name": "stdout",
     "output_type": "stream",
     "text": [
      "(0.16151409013627652+0j)\n"
     ]
    }
   ],
   "source": [
    "# -*- coding: utf-8 -*-\n",
    "\"\"\"\n",
    "Created on Mon Mar 28 21:11:43 2022\n",
    "\n",
    "@author: wwww\n",
    "\"\"\"\n",
    "from sympy import *\n",
    "from sympy.matrices import Matrix, eye, zeros, ones, diag, GramSchmidt\n",
    "from sympy.abc import x\n",
    "\n",
    "x0=Symbol('x0');x1=Symbol('x1');x2=Symbol('x3');x3=Symbol('x3');#f=Symbol('f');\n",
    "\n",
    "g=Symbol('g')\n",
    "c=Symbol('c')\n",
    "\n",
    "f=Function('f')\n",
    "s=x*sin(7*x)*exp(-x)\n",
    "#rq=dsolve(Derivative(f(x),x,x,x)10+Derivative(f(x),x,x)+9*f(x),f(x),\\\n",
    "res=dsolve((Derivative(f(x),x,x)+(g**2)*Derivative(f(x),x,x)+(c**2)*f(x)+s),f(x),\\\n",
    "ics={f(0):x0,\\\n",
    "     f(x).diff(x,1).subs(x,0):x1\\\n",
    "         })\n",
    "\n",
    "r=res.rhs\n",
    "\n",
    "rgc=r.subs([[g,1],[c,3]])\n",
    "\n",
    "e=lambdify((x,x0,x1),rgc)    \n",
    "print(e(1,2,3))    "
   ]
  },
  {
   "cell_type": "code",
   "execution_count": 4,
   "id": "54bdad89",
   "metadata": {},
   "outputs": [],
   "source": [
    "g=x*sin(7*x)"
   ]
  },
  {
   "cell_type": "code",
   "execution_count": 5,
   "id": "f6959d45",
   "metadata": {},
   "outputs": [
    {
     "data": {
      "text/latex": [
       "$\\displaystyle x \\sin{\\left(7 x \\right)}$"
      ],
      "text/plain": [
       "x*sin(7*x)"
      ]
     },
     "execution_count": 5,
     "metadata": {},
     "output_type": "execute_result"
    }
   ],
   "source": [
    "g"
   ]
  },
  {
   "cell_type": "code",
   "execution_count": 6,
   "id": "0c0d5e1a",
   "metadata": {},
   "outputs": [
    {
     "data": {
      "text/latex": [
       "$\\displaystyle x e^{- 2 x} \\sin{\\left(7 x \\right)}$"
      ],
      "text/plain": [
       "x*exp(-2*x)*sin(7*x)"
      ]
     },
     "execution_count": 6,
     "metadata": {},
     "output_type": "execute_result"
    }
   ],
   "source": [
    "x*sin(7*x)*exp(-2*x)"
   ]
  },
  {
   "cell_type": "code",
   "execution_count": 19,
   "id": "f64f77ef",
   "metadata": {},
   "outputs": [
    {
     "data": {
      "text/latex": [
       "$\\displaystyle \\frac{87 x e^{- x} \\sin{\\left(7 x \\right)}}{8353} - \\frac{28 x e^{- x} \\cos{\\left(7 x \\right)}}{8353} + \\left(\\frac{x_{0}}{2} - \\frac{\\sqrt{2} i x_{1}}{6} - \\frac{104734}{69772609} + \\frac{160790 \\sqrt{2} i}{209317827}\\right) e^{\\frac{3 \\sqrt{2} i x}{2}} + \\left(\\frac{x_{0}}{2} + \\frac{\\sqrt{2} i x_{1}}{6} - \\frac{104734}{69772609} - \\frac{160790 \\sqrt{2} i}{209317827}\\right) e^{- \\frac{3 \\sqrt{2} i x}{2}} + \\frac{109276 e^{- x} \\sin{\\left(7 x \\right)}}{69772609} + \\frac{209468 e^{- x} \\cos{\\left(7 x \\right)}}{69772609}$"
      ],
      "text/plain": [
       "87*x*exp(-x)*sin(7*x)/8353 - 28*x*exp(-x)*cos(7*x)/8353 + (x0/2 - sqrt(2)*I*x1/6 - 104734/69772609 + 160790*sqrt(2)*I/209317827)*exp(3*sqrt(2)*I*x/2) + (x0/2 + sqrt(2)*I*x1/6 - 104734/69772609 - 160790*sqrt(2)*I/209317827)*exp(-3*sqrt(2)*I*x/2) + 109276*exp(-x)*sin(7*x)/69772609 + 209468*exp(-x)*cos(7*x)/69772609"
      ]
     },
     "execution_count": 19,
     "metadata": {},
     "output_type": "execute_result"
    }
   ],
   "source": [
    "rgc"
   ]
  },
  {
   "cell_type": "code",
   "execution_count": null,
   "id": "efe161c9",
   "metadata": {},
   "outputs": [],
   "source": []
  }
 ],
 "metadata": {
  "kernelspec": {
   "display_name": "Python 3",
   "language": "python",
   "name": "python3"
  },
  "language_info": {
   "codemirror_mode": {
    "name": "ipython",
    "version": 3
   },
   "file_extension": ".py",
   "mimetype": "text/x-python",
   "name": "python",
   "nbconvert_exporter": "python",
   "pygments_lexer": "ipython3",
   "version": "3.7.9"
  }
 },
 "nbformat": 4,
 "nbformat_minor": 5
}
