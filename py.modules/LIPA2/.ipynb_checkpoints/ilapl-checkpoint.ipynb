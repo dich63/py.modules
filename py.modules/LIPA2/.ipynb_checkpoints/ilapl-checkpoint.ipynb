{
 "cells": [
  {
   "cell_type": "code",
   "execution_count": 1,
   "id": "db5a9816",
   "metadata": {},
   "outputs": [
    {
     "ename": "IndentationError",
     "evalue": "unexpected indent (<ipython-input-1-60acf21f5136>, line 6)",
     "output_type": "error",
     "traceback": [
      "\u001b[1;36m  File \u001b[1;32m\"<ipython-input-1-60acf21f5136>\"\u001b[1;36m, line \u001b[1;32m6\u001b[0m\n\u001b[1;33m    tic();\u001b[0m\n\u001b[1;37m    ^\u001b[0m\n\u001b[1;31mIndentationError\u001b[0m\u001b[1;31m:\u001b[0m unexpected indent\n"
     ]
    }
   ],
   "source": [
    "from utils import *\n",
    "from  LIPA2.ilaplace import *\n",
    "    #from jsobj import *\n",
    "    \n",
    "    \n",
    "tic();\n",
    "#[p,d,q]=sym_reduce([c0,c1,c2,c3],[( [b1,b2,b3] ,g  )]);\n",
    "\n",
    "syms_def(locals(),' c0, c1 ,c0,c1,c2,c3,c4,b1, b2, b3, g, a1, a2, a3, a4, g1')\n",
    "\n",
    "\n",
    "\n",
    "#[p,d,q]=sym_reduce([c0 ,c1,c0,c1,c2,c3],[( [0,b1,b2,b3] ,g  ),([0,0,0,a4],g1)]);\n",
    "\n",
    "[p,d,q]=sym_reduce([(c0,2),(c1,2),c3,c3],[( [0,b1,b2,b3] ,g  ),([0,0,0,a4],g1)]);\n",
    "#[p,d,q]=sym_reduce([c0 ,c1,c0,c1,c2,c3],[( [0,b1,b2,b3] ,g  )]);\n",
    "\n",
    "toc('reduce:')\n",
    "#jo=arg2jso(c1=1.1,c2=2.3,c3=1.11,c4=21,c0=10j,g=3.11,g1=2j,b1=2.1,b2=1.2,b3=1.1j,a4=2)\n",
    "jo={\n",
    "    c1:-0.015+7j,\n",
    "    c2:-3.2,\n",
    "    c3:-0.13+2j,\n",
    "    c4:-21,\n",
    "    c0:-0.01+2.1j,\n",
    "    g:-1.051+7j,        \n",
    "    b1:2.1e-3,\n",
    "    b2:1.2,\n",
    "    b3:10+1.1j,\n",
    "    g1:-1+2j,\n",
    "    a4:2.0e-2}\n",
    "tic();\n",
    "#pn= subs_keys(p,**to_dict(jo))\n",
    "\n",
    "[pc,dc,qc]=sym2complex(subs_keys([p,d,q],**toargs(jo)))\n",
    "toc('subs:')\n",
    "tic();\n",
    "GF=ilaplace_functor(pc)\n",
    "F=ilaplace_functor(qc)\n",
    "toc('functors:')\n"
   ]
  },
  {
   "cell_type": "code",
   "execution_count": null,
   "id": "efe161c9",
   "metadata": {},
   "outputs": [],
   "source": [
    "import numpy as np\n",
    "%matplotlib inline\n",
    "import matplotlib.pyplot as plt\n",
    "%matplotlib widget\n",
    "fig=plt.figure(figsize=(12,8))\n",
    "#fig.suptitle('sensors data + pure response ', fontsize=16)\n",
    "plt.grid(True,which='major')\n",
    "plt.minorticks_on()\n",
    "plt.grid(True,which='minor',alpha=0.2)\n",
    "tt=np.linspace(0,300,4000)\n",
    "rn=lambda x: x/np.max(np.abs(x))\n",
    "plt.plot(tt,rn(F(tt)),tt,rn(GF(tt)))"
   ]
  },
  {
   "cell_type": "code",
   "execution_count": 2,
   "id": "2882bdd5",
   "metadata": {},
   "outputs": [
    {
     "ename": "NameError",
     "evalue": "name 'tic' is not defined",
     "output_type": "error",
     "traceback": [
      "\u001b[1;31m---------------------------------------------------------------------------\u001b[0m",
      "\u001b[1;31mNameError\u001b[0m                                 Traceback (most recent call last)",
      "\u001b[1;32m<ipython-input-2-95de8694549d>\u001b[0m in \u001b[0;36m<module>\u001b[1;34m\u001b[0m\n\u001b[1;32m----> 1\u001b[1;33m \u001b[0mtic\u001b[0m\u001b[1;33m(\u001b[0m\u001b[1;33m)\u001b[0m\u001b[1;33m\u001b[0m\u001b[1;33m\u001b[0m\u001b[0m\n\u001b[0m",
      "\u001b[1;31mNameError\u001b[0m: name 'tic' is not defined"
     ]
    }
   ],
   "source": [
    "tic()"
   ]
  },
  {
   "cell_type": "code",
   "execution_count": 4,
   "id": "f7b8901d",
   "metadata": {},
   "outputs": [
    {
     "data": {
      "text/plain": [
       "'v:\\\\ipc\\\\py.modules\\\\utils\\\\__init__.py'"
      ]
     },
     "execution_count": 4,
     "metadata": {},
     "output_type": "execute_result"
    }
   ],
   "source": [
    "import utils\n",
    "utils.__file__"
   ]
  }
 ],
 "metadata": {
  "kernelspec": {
   "display_name": "Python 3",
   "language": "python",
   "name": "python3"
  },
  "language_info": {
   "codemirror_mode": {
    "name": "ipython",
    "version": 3
   },
   "file_extension": ".py",
   "mimetype": "text/x-python",
   "name": "python",
   "nbconvert_exporter": "python",
   "pygments_lexer": "ipython3",
   "version": "3.7.9"
  }
 },
 "nbformat": 4,
 "nbformat_minor": 5
}
