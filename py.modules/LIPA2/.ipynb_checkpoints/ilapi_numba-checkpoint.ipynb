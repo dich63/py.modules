{
 "cells": [
  {
   "cell_type": "code",
   "execution_count": 1,
   "id": "db5a9816",
   "metadata": {},
   "outputs": [
    {
     "name": "stdout",
     "output_type": "stream",
     "text": [
      "reduce: 0.0375206 sec\n",
      "functors: 0.530591 sec\n"
     ]
    },
    {
     "data": {
      "text/plain": [
       "0.5305909999999994"
      ]
     },
     "execution_count": 1,
     "metadata": {},
     "output_type": "execute_result"
    }
   ],
   "source": [
    "from LIPA2.ilaplace import *\n",
    "from LIPA2.qp_solver import *\n",
    "\n",
    "from utils import *\n",
    "from utils.interpolate_1D import *\n",
    "\n",
    "\n",
    "import numpy as np\n",
    "norm=np.linalg.norm\n",
    "\n",
    "syms_def(locals(),' c0, c1 ,c0,c1,c2,c3,c4,b1, b2, b3, b4, g, a1, a2, a3, a4, g1')\n",
    "\n",
    "tic();\n",
    "\n",
    "import dill\n",
    "dill.settings['recurse'] = True\n",
    "\n",
    "fname='ilapi0.ipynb.picle'\n",
    "if 0:\n",
    "    #[p,d,q]=sym_reduce([g],[( [b1,b2,b3,b4] ,g  )]);\n",
    "    [p,d,q]=sym_reduce([c0,c1,c2,c3],[( [b1,b2,b3,b4] ,g  )]);\n",
    "    dill.dump([p,d,q],open(fname,'wb'))\n",
    "else:\n",
    "    [p,d,q]=dill.load(open(fname,'rb'))\n",
    "    \n",
    "#[p,d,q]=sym_reduce([c0 ,c1,c0,c1,c2,c3],[( [0,b1,b2,b3] ,g  )]);\n",
    "\n",
    "toc('reduce:')\n",
    "#jo=arg2jso(c1=1.1,c2=2.3,c3=1.11,c4=21,c0=10j,g=3.11,g1=2j,b1=2.1,b2=1.2,b3=1.1j,a4=2)\n",
    "jo={\n",
    "    \n",
    "    c0:-.5+250j,\n",
    "    c1:-.5-265.5j,\n",
    "    c2:-1.5+258j,\n",
    "    c3:-1.5-268j,\n",
    "    c4:-21,\n",
    "    \n",
    "    g:-57.5+260j,\n",
    "    #g:0,                \n",
    "    b1:10,\n",
    "    b2:-1j,\n",
    "    b3:3,\n",
    "    b4:11,\n",
    "    }\n",
    "\n",
    "\n",
    "\n",
    "tic();\n",
    "nd=0\n",
    "\n",
    "[GF,exg]=ilaplace_functor(p,jo,nd)\n",
    "[F,exf]=ilaplace_functor(q,jo)\n",
    "\n",
    "\n",
    "\n",
    "toc('functors:')\n",
    "\n"
   ]
  },
  {
   "cell_type": "code",
   "execution_count": null,
   "id": "efe161c9",
   "metadata": {},
   "outputs": [],
   "source": [
    "import numpy as np\n",
    "%matplotlib inline\n",
    "import matplotlib.pyplot as plt\n",
    "%matplotlib widget\n",
    "#fig=plt.figure(figsize=(12,8))\n",
    "fig, ax = plt.subplots(figsize=(12,8))\n",
    "#fig.suptitle('sensors data + pure response ', fontsize=16)\n",
    "ax.grid(True,which='major')\n",
    "ax.minorticks_on()\n",
    "ax.grid(True,which='minor',alpha=0.2)\n",
    "tt=np.linspace(0,10,7200)\n",
    "rn=lambda x: x.real/np.max(np.abs(x.real))\n",
    "#plt.plot(tt,rn(F(tt)),tt,rn(GF(tt)))\n",
    "ax.plot(tt,rn(F(tt)),label='F')\n",
    "ax.plot(tt,rn(GF(tt)),label='J');\n",
    "legend = ax.legend(loc='upper right', shadow=True, fontsize='x-large')\n",
    "''\n"
   ]
  },
  {
   "cell_type": "code",
   "execution_count": null,
   "id": "0e51cf27",
   "metadata": {
    "scrolled": true
   },
   "outputs": [],
   "source": [
    "[DC,QP,G,FF]=make_lipa_data(d,q,jo);\n",
    "\n",
    "LM=[6,8];\n",
    "LM=[10,12];\n",
    "LM=[8,14];\n",
    "LM=[8,16];\n",
    "dt=0.0225*1.8;\n",
    "#dt=0.0225*1.5;\n",
    "dt=0.0225*2.0;\n",
    "\n",
    "'''\n",
    "LM=[4,4]\n",
    "\n",
    "dt=0.0000225*1.8\n",
    "'''\n",
    "'''\n",
    "print(QP.shape)\n",
    "print(G.shape)\n",
    "print(FF.shape)\n",
    "'''\n",
    "lqp=lipa_qp_number(DC,LM=LM,FF=FF,qp=QP,g=G,nd=9).reset(dt);\n",
    "\n",
    "nt=300\n",
    "tt=dt*np.arange(1,nt+1)\n",
    "tm=np.max(tt)\n",
    "#ttx=np.linspace(tt[0],tm,80000)\n",
    "ttx=np.linspace(2*tt[0]/3,tm,80000)\n",
    "\n",
    "x=GF(tt)\n",
    "ynn=lqp.dump(nt)\n",
    "ynn=ynn.reshape(ynn.shape[0],-1).T\n",
    "y=ynn[nd]\n",
    "deg=ynn.shape[0]-1\n",
    "jG=jet_spline(tt,ynn,deg=deg)\n",
    "\n",
    "err=norm(x-y)/norm(x);\n",
    "#err=norm(np.abs(x)-np.abs(y))/norm(x);\n",
    "errs=norm(jG(ttx)-GF(ttx))/norm(GF(ttx));\n",
    "#fig2=plt.figure(figsize=(12,8))\n",
    "fig2, ax2 = plt.subplots(figsize=(12,8))\n",
    "rn = lambda x : np.abs(x)\n",
    "#rn = lambda x : x.real\n",
    "if 1:\n",
    "    \n",
    "    \n",
    "    \n",
    "    ax2.plot(ttx,rn(GF(ttx)),label='|exact|');\n",
    "    ax2.plot(ttx,GF(ttx).real,label='$exact_{re}$',color='#bbbbaa');\n",
    "    ax2.plot(ttx,GF(ttx).imag,label='$exact_{im}$',color='#aaaabb');\n",
    "    ax2.plot(ttx,rn(jG(ttx)),label='|spline|');\n",
    "    \n",
    "    ax2.plot(tt,y.real, marker='+',linewidth=0,label='$point_{re}$',color='#0000ff');\n",
    "    ax2.plot(tt,y.imag, marker='+',linewidth=0,label='$point_{im}$',color='#ff0000');\n",
    "    ax2.plot(tt,rn(y), marker='o',linewidth=0,label='|point|');\n",
    "    \n",
    "    \n",
    "else:\n",
    "    ax2.plot(tt,y.real, marker='o',linewidth=0,label='step point');\n",
    "legend = ax2.legend(loc='upper right', shadow=True, fontsize='x-large');\n",
    "ax2.grid(True,which='major')\n",
    "ax2.minorticks_on()\n",
    "ax2.grid(True,which='minor',alpha=0.2)\n",
    "\n",
    "#print(x)    \n",
    "#print(y[0])    \n",
    "s=sprintf('$err_{point}$=%3.1e%% $err_{spline}$=%3.1e%%\\n',100*err,100*errs);\n",
    "\n",
    "ax2.set_title(s);"
   ]
  },
  {
   "cell_type": "code",
   "execution_count": null,
   "id": "fe116372",
   "metadata": {},
   "outputs": [],
   "source": [
    "tt[0]"
   ]
  },
  {
   "cell_type": "code",
   "execution_count": null,
   "id": "c7209263",
   "metadata": {},
   "outputs": [],
   "source": [
    "[DC,QP,G,FF]=make_lipa_data(d,q,jo);\n",
    "\n",
    "LM=[6,8];\n",
    "LM=[10,12];\n",
    "LM=[8,14];\n",
    "LM=[8,16];\n",
    "LM=[8,18];\n",
    "dt=0.0225*1.8;\n",
    "#dt=0.0225*1.5;\n",
    "dt=0.0225*2.1;\n",
    "dt=0.0225*2.5;\n",
    "\n",
    "'''\n",
    "LM=[4,10]\n",
    "dt=0.000225*1.8\n",
    "\n",
    "LM=[4,4]\n",
    "\n",
    "dt=0.0000225*1.8\n",
    "\n",
    "\n",
    "print(QP.shape)\n",
    "print(G.shape)\n",
    "print(FF.shape)\n",
    "'''\n",
    "lqp=lipa_qp_number(DC,LM=LM,FF=FF,qp=QP,g=G,nd=12).reset(dt);\n",
    "\n",
    "nt=300\n",
    "tt=dt*np.arange(1,nt+1)\n",
    "tm=np.max(tt)\n",
    "#ttx=np.linspace(tt[0],tm,80000)\n",
    "ttx=np.linspace(2*tt[0]/3,tm,80000)\n",
    "\n",
    "x=GF(tt)\n",
    "ynn=lqp.dump(nt)\n",
    "ynn=ynn.reshape(ynn.shape[0],-1).T\n",
    "y=ynn[nd]\n",
    "deg=ynn.shape[0]-1\n",
    "jG=jet_spline(tt,ynn,deg=deg)\n",
    "\n",
    "err=norm(x-y)/norm(x);\n",
    "#err=norm(np.abs(x)-np.abs(y))/norm(x);\n",
    "errs=norm(jG(ttx)-GF(ttx))/norm(GF(ttx));\n",
    "#fig2=plt.figure(figsize=(12,8))\n",
    "fig2, ax2 = plt.subplots(figsize=(12,8))\n",
    "rn = lambda x : np.real(x)\n",
    "#rn = lambda x : x.real\n",
    "if 1:\n",
    "    \n",
    "    \n",
    "    \n",
    "    ax2.plot(ttx,rn(GF(ttx)),label='|exact|');\n",
    "    \n",
    "    ax2.plot(ttx,rn(jG(ttx)),label='|spline|');   \n",
    "    \n",
    "    ax2.plot(tt,rn(y), marker='o',linewidth=0,label='|point|');\n",
    "    \n",
    "    \n",
    "else:\n",
    "    ax2.plot(tt,y.real, marker='o',linewidth=0,label='step point');\n",
    "legend = ax2.legend(loc='upper right', shadow=True, fontsize='x-large');\n",
    "ax2.grid(True,which='major')\n",
    "ax2.minorticks_on()\n",
    "ax2.grid(True,which='minor',alpha=0.2)\n",
    "\n",
    "#print(x)    \n",
    "#print(y[0])    \n",
    "s=sprintf('$err_{point}$=%3.1e%% $err_{spline}$=%3.1e%%\\n',100*err,100*errs);\n",
    "\n",
    "ax2.set_title(s);"
   ]
  },
  {
   "cell_type": "code",
   "execution_count": null,
   "id": "ab7f516f",
   "metadata": {},
   "outputs": [],
   "source": [
    "fig, ax = plt.subplots(figsize=(12,8))\n",
    "ax.plot(tt,y.real, marker='o',linewidth=0,label='ss')\n",
    "#legend = ax.legend(loc='upper center', shadow=True, fontsize='x-large')\n"
   ]
  },
  {
   "cell_type": "code",
   "execution_count": null,
   "id": "98fff1b5",
   "metadata": {},
   "outputs": [],
   "source": [
    "%%javascript\n",
    "var nb = IPython.notebook;\n",
    "var kernel = IPython.notebook.kernel;\n",
    "var command = \"NOTEBOOK_FULL_PATH='\" + nb.base_url + nb.notebook_path + \"'\";\n",
    "kernel.execute(command);"
   ]
  },
  {
   "cell_type": "code",
   "execution_count": null,
   "id": "f98c78b5",
   "metadata": {},
   "outputs": [],
   "source": [
    "NOTEBOOK_FULL_PATH"
   ]
  },
  {
   "cell_type": "code",
   "execution_count": null,
   "id": "4c6c0042",
   "metadata": {},
   "outputs": [],
   "source": []
  },
  {
   "cell_type": "code",
   "execution_count": null,
   "id": "4141a07e",
   "metadata": {},
   "outputs": [],
   "source": [
    "urllib.request('http://127.0.0.1:8888/api/sessions')"
   ]
  },
  {
   "cell_type": "code",
   "execution_count": null,
   "id": "895c3dca",
   "metadata": {},
   "outputs": [],
   "source": [
    "dir(urllib.request)"
   ]
  },
  {
   "cell_type": "code",
   "execution_count": null,
   "id": "fdf4c55b",
   "metadata": {},
   "outputs": [],
   "source": [
    "type(q)"
   ]
  },
  {
   "cell_type": "code",
   "execution_count": null,
   "id": "904be296",
   "metadata": {},
   "outputs": [],
   "source": [
    "p"
   ]
  },
  {
   "cell_type": "code",
   "execution_count": null,
   "id": "6320880d",
   "metadata": {},
   "outputs": [],
   "source": [
    "q"
   ]
  },
  {
   "cell_type": "code",
   "execution_count": null,
   "id": "aa29ce74",
   "metadata": {},
   "outputs": [],
   "source": [
    "p"
   ]
  },
  {
   "cell_type": "code",
   "execution_count": null,
   "id": "f801e2ff",
   "metadata": {},
   "outputs": [],
   "source": []
  }
 ],
 "metadata": {
  "kernelspec": {
   "display_name": "Python 3 (ipykernel)",
   "language": "python",
   "name": "python3"
  },
  "language_info": {
   "codemirror_mode": {
    "name": "ipython",
    "version": 3
   },
   "file_extension": ".py",
   "mimetype": "text/x-python",
   "name": "python",
   "nbconvert_exporter": "python",
   "pygments_lexer": "ipython3",
   "version": "3.9.12"
  }
 },
 "nbformat": 4,
 "nbformat_minor": 5
}
