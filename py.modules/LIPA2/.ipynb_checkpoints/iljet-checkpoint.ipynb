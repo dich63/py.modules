{
 "cells": [
  {
   "cell_type": "code",
   "execution_count": 67,
   "id": "db5a9816",
   "metadata": {},
   "outputs": [
    {
     "name": "stdout",
     "output_type": "stream",
     "text": [
      "reduce: 0.0345135 sec\n",
      "functors: 0.593818 sec\n"
     ]
    },
    {
     "data": {
      "text/plain": [
       "0.5938180000011926"
      ]
     },
     "execution_count": 67,
     "metadata": {},
     "output_type": "execute_result"
    }
   ],
   "source": [
    "from LIPA2.ilaplace import *\n",
    "from LIPA2.qp_solver import *\n",
    "\n",
    "from utils import *\n",
    "from utils.interpolate_1D import *\n",
    "\n",
    "\n",
    "import numpy as np\n",
    "norm=np.linalg.norm\n",
    "\n",
    "syms_def(locals(),' c0, c1 ,c0,c1,c2,c3,c4,b1, b2, b3, b4, g, a1, a2, a3, a4, g1')\n",
    "\n",
    "tic();\n",
    "\n",
    "import dill\n",
    "dill.settings['recurse'] = True\n",
    "\n",
    "fname='ilapi0.ipynb.picle'\n",
    "if 0:\n",
    "    #[p,d,q]=sym_reduce([g],[( [b1,b2,b3,b4] ,g  )]);\n",
    "    [p,d,q]=sym_reduce([c0,c1,c2,c3],[( [b1,b2,b3,b4] ,g  )]);\n",
    "    dill.dump([p,d,q],open(fname,'wb'))\n",
    "else:\n",
    "    [p,d,q]=dill.load(open(fname,'rb'))\n",
    "    \n",
    "#[p,d,q]=sym_reduce([c0 ,c1,c0,c1,c2,c3],[( [0,b1,b2,b3] ,g  )]);\n",
    "\n",
    "toc('reduce:')\n",
    "#jo=arg2jso(c1=1.1,c2=2.3,c3=1.11,c4=21,c0=10j,g=3.11,g1=2j,b1=2.1,b2=1.2,b3=1.1j,a4=2)\n",
    "jo={\n",
    "    \n",
    "    c0:-5.5+250j,\n",
    "    c1:-5.5-250.5j,\n",
    "    c2:-1.5+253j,\n",
    "    c3:-1.5-253j,\n",
    "    c4:-21,\n",
    "    \n",
    "    g:-17.5+250j,\n",
    "    #g:0,                \n",
    "    b1:0,\n",
    "    b2:-1j,\n",
    "    b3:0,\n",
    "    b4:1,\n",
    "    }\n",
    "\n",
    "\n",
    "\n",
    "tic();\n",
    "nd=0\n",
    "\n",
    "[GF,exg]=ilaplace_functor(p,jo,nd)\n",
    "[F,exf]=ilaplace_functor(q,jo)\n",
    "\n",
    "\n",
    "\n",
    "toc('functors:')\n",
    "\n"
   ]
  },
  {
   "cell_type": "code",
   "execution_count": 68,
   "id": "efe161c9",
   "metadata": {},
   "outputs": [
    {
     "data": {
      "application/vnd.jupyter.widget-view+json": {
       "model_id": "2737699447d1432b8bdb068cd525536c",
       "version_major": 2,
       "version_minor": 0
      },
      "text/plain": [
       "Canvas(toolbar=Toolbar(toolitems=[('Home', 'Reset original view', 'home', 'home'), ('Back', 'Back to previous …"
      ]
     },
     "metadata": {},
     "output_type": "display_data"
    },
    {
     "data": {
      "text/plain": [
       "''"
      ]
     },
     "execution_count": 68,
     "metadata": {},
     "output_type": "execute_result"
    }
   ],
   "source": [
    "import numpy as np\n",
    "%matplotlib inline\n",
    "import matplotlib.pyplot as plt\n",
    "%matplotlib widget\n",
    "#fig=plt.figure(figsize=(12,8))\n",
    "fig, ax = plt.subplots(figsize=(12,8))\n",
    "#fig.suptitle('sensors data + pure response ', fontsize=16)\n",
    "ax.grid(True,which='major')\n",
    "ax.minorticks_on()\n",
    "ax.grid(True,which='minor',alpha=0.2)\n",
    "tt=np.linspace(0,10,7200)\n",
    "rn=lambda x: x.real/np.max(np.abs(x.real))\n",
    "#plt.plot(tt,rn(F(tt)),tt,rn(GF(tt)))\n",
    "ax.plot(tt,rn(F(tt)),label='F')\n",
    "ax.plot(tt,rn(GF(tt)),label='J');\n",
    "legend = ax.legend(loc='upper right', shadow=True, fontsize='x-large')\n",
    "''\n"
   ]
  },
  {
   "cell_type": "code",
   "execution_count": 69,
   "id": "92e07588",
   "metadata": {},
   "outputs": [
    {
     "name": "stdout",
     "output_type": "stream",
     "text": [
      "(1, 4)\n",
      "(1,)\n",
      "(1, 1)\n"
     ]
    },
    {
     "data": {
      "application/vnd.jupyter.widget-view+json": {
       "model_id": "db78aaa5c6894740a47a492d3f00212d",
       "version_major": 2,
       "version_minor": 0
      },
      "text/plain": [
       "Canvas(toolbar=Toolbar(toolitems=[('Home', 'Reset original view', 'home', 'home'), ('Back', 'Back to previous …"
      ]
     },
     "metadata": {},
     "output_type": "display_data"
    },
    {
     "data": {
      "text/plain": [
       "Text(0.5, 1.0, 'error=0.01723%\\n')"
      ]
     },
     "execution_count": 69,
     "metadata": {},
     "output_type": "execute_result"
    }
   ],
   "source": [
    "[DC,QP,G,FF]=make_lipa_data(d,q,jo);\n",
    "\n",
    "LM=[6,8]\n",
    "LM=[10,12]\n",
    "dt=0.0225*1.8\n",
    "\n",
    "print(QP.shape)\n",
    "print(G.shape)\n",
    "print(FF.shape)\n",
    "lqp=lipa_qp_number(DC,LM=LM,FF=FF,qp=QP,g=G,nd=6).reset(dt);\n",
    "\n",
    "nt=100\n",
    "tt=dt*np.arange(1,nt+1)\n",
    "tm=np.max(tt)\n",
    "ttx=np.linspace(0,tm,10000)\n",
    "x=GF(tt)\n",
    "ynn=lqp.dump(nt)\n",
    "ynn=ynn.reshape(ynn.shape[0],-1).T\n",
    "y=ynn[nd]\n",
    "deg=ynn.shape[0]-1\n",
    "jG=jet_spline(tt,ynn,deg=deg)\n",
    "\n",
    "err=norm(x-y)/norm(x);\n",
    "#fig2=plt.figure(figsize=(12,8))\n",
    "fig2, ax2 = plt.subplots(figsize=(12,8))\n",
    "\n",
    "if 1:\n",
    "    ax2.plot(ttx,GF(ttx).real,label='exact')\n",
    "    ax2.plot(ttx,jG(ttx).real,label='spline')\n",
    "    ax2.plot(tt,y.real, marker='o',linewidth=0,label='step point')\n",
    "else:\n",
    "    ax2.plot(tt,y.real, marker='o',linewidth=0,label='step point')\n",
    "legend = ax2.legend(loc='upper right', shadow=True, fontsize='x-large')\n",
    "#print(x)    \n",
    "#print(y[0])    \n",
    "s=sprintf('error=%3.4g%%\\n',100*err)\n",
    "\n",
    "ax2.set_title(s)"
   ]
  },
  {
   "cell_type": "code",
   "execution_count": 54,
   "id": "e248077e",
   "metadata": {},
   "outputs": [
    {
     "data": {
      "text/plain": [
       "(6, 100)"
      ]
     },
     "execution_count": 54,
     "metadata": {},
     "output_type": "execute_result"
    }
   ],
   "source": [
    "ynn.shape"
   ]
  },
  {
   "cell_type": "code",
   "execution_count": null,
   "id": "b9c33ddf",
   "metadata": {},
   "outputs": [],
   "source": [
    "plt.plot(tt,y, marker='o',linewidth=0)"
   ]
  },
  {
   "cell_type": "code",
   "execution_count": null,
   "id": "4aeb3a68",
   "metadata": {},
   "outputs": [],
   "source": [
    "fig, ax = plt.subplots(figsize=(12,8))\n",
    "ax.plot(tt,y.real, marker='o',linewidth=0,label='ss')\n",
    "#legend = ax.legend(loc='upper center', shadow=True, fontsize='x-large')\n"
   ]
  },
  {
   "cell_type": "code",
   "execution_count": 45,
   "id": "0bc4bd7d",
   "metadata": {},
   "outputs": [
    {
     "data": {
      "text/plain": [
       "0"
      ]
     },
     "execution_count": 45,
     "metadata": {},
     "output_type": "execute_result"
    }
   ],
   "source": [
    "nd"
   ]
  },
  {
   "cell_type": "code",
   "execution_count": null,
   "id": "05d13b33",
   "metadata": {},
   "outputs": [],
   "source": []
  }
 ],
 "metadata": {
  "kernelspec": {
   "display_name": "Python 3",
   "language": "python",
   "name": "python3"
  },
  "language_info": {
   "codemirror_mode": {
    "name": "ipython",
    "version": 3
   },
   "file_extension": ".py",
   "mimetype": "text/x-python",
   "name": "python",
   "nbconvert_exporter": "python",
   "pygments_lexer": "ipython3",
   "version": "3.7.9"
  }
 },
 "nbformat": 4,
 "nbformat_minor": 5
}
