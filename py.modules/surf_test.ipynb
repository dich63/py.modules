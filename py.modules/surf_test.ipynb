{
 "cells": [
  {
   "cell_type": "code",
   "execution_count": 1,
   "id": "closed-nursing",
   "metadata": {},
   "outputs": [
    {
     "ename": "ModuleNotFoundError",
     "evalue": "No module named 'k3d'",
     "output_type": "error",
     "traceback": [
      "\u001b[0;31m---------------------------------------------------------------------------\u001b[0m\n\u001b[0;31mModuleNotFoundError\u001b[0m                       Traceback (most recent call last)",
      "In  \u001b[0;34m[1]\u001b[0m:\nLine \u001b[0;34m2\u001b[0m:     \u001b[34mfrom\u001b[39;49;00m \u001b[04m\u001b[36mplots\u001b[39;49;00m\u001b[04m\u001b[36m.\u001b[39;49;00m\u001b[04m\u001b[36mk3dsurf\u001b[39;49;00m \u001b[34mimport\u001b[39;49;00m surf\n",
      "File \u001b[0;34m.\\plots\\k3dsurf.py\u001b[0m, in \u001b[0;32m<module>\u001b[0m:\nLine \u001b[0;34m4\u001b[0m:     \u001b[34mimport\u001b[39;49;00m \u001b[04m\u001b[36mk3d\u001b[39;49;00m\n",
      "\u001b[0;31mModuleNotFoundError\u001b[0m: No module named 'k3d'\n\u001b[0;31m---------------------------------------------------------------------------\u001b[0m"
     ]
    }
   ],
   "source": [
    "import numpy as np\n",
    "from plots.k3dsurf import surf\n",
    "\n",
    "\n",
    "surf()\n"
   ]
  },
  {
   "cell_type": "code",
   "execution_count": 2,
   "id": "ecological-violation",
   "metadata": {},
   "outputs": [
    {
     "data": {
      "application/vnd.jupyter.widget-view+json": {
       "model_id": "259922c42506441e8b6f708f3196f1a8",
       "version_major": 2,
       "version_minor": 0
      },
      "text/plain": [
       "Plot(antialias=3, axes=['X', 'Y', 'F'], axes_helper=1.0, background_color=16777215, camera=[2, -3, 0.2, 0.0, 0…"
      ]
     },
     "metadata": {},
     "output_type": "display_data"
    }
   ],
   "source": [
    "surf(lambda x,y : np.sin(x*y))"
   ]
  },
  {
   "cell_type": "code",
   "execution_count": 3,
   "id": "relevant-acrylic",
   "metadata": {},
   "outputs": [
    {
     "data": {
      "application/vnd.jupyter.widget-view+json": {
       "model_id": "48c1d4f6850f442a9b6738ce087649c3",
       "version_major": 2,
       "version_minor": 0
      },
      "text/plain": [
       "Plot(antialias=3, axes=['X', 'Y', 'F'], axes_helper=1.0, background_color=16777215, camera=[2, -3, 0.2, 0.0, 0…"
      ]
     },
     "metadata": {},
     "output_type": "display_data"
    }
   ],
   "source": [
    "X,Y=np.meshgrid(np.linspace(-1.,1.,200),np.linspace(-2.,2.,300))\n",
    "F=-X*X+Y*Y\n",
    "surf(F,(X,Y))\n"
   ]
  },
  {
   "cell_type": "code",
   "execution_count": null,
   "id": "seventh-bidder",
   "metadata": {},
   "outputs": [],
   "source": []
  }
 ],
 "metadata": {
  "kernelspec": {
   "display_name": "Python 3",
   "language": "python",
   "name": "python3"
  },
  "language_info": {
   "codemirror_mode": {
    "name": "ipython",
    "version": 3
   },
   "file_extension": ".py",
   "mimetype": "text/x-python",
   "name": "python",
   "nbconvert_exporter": "python",
   "pygments_lexer": "ipython3",
   "version": "3.9.1"
  }
 },
 "nbformat": 4,
 "nbformat_minor": 5
}
