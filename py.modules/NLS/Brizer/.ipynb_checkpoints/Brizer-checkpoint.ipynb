{
 "cells": [
  {
   "cell_type": "code",
   "execution_count": 27,
   "metadata": {},
   "outputs": [],
   "source": [
    "import cmath\n",
    "import numpy as np\n",
    "def brizerKM(t,x,a1):\n",
    "    bb=cmath.sqrt(8*a1*(1-2*a1));\n",
    "    p=cmath.sqrt(2-4*a1);\n",
    "    cospt=np.array([cmath.cos(p*tt) for tt in t]);\n",
    "    chbx=cmath.cosh(bb*x);\n",
    "    shbx=cmath.sinh(bb*x);\n",
    "    N=(1-4*a1)*chbx+cmath.sqrt(2*a1)*cospt+1j*bb*shbx;\n",
    "    D=(chbx-cmath.sqrt(2*a1)*cospt);\n",
    "    return np.divide(N,D)*cmath.exp(1j*x);\n",
    "\n",
    "def rbrizerKM(N,m,a):\n",
    "    # [fun,Z,x]    \n",
    "    h=(2*cmath.pi*m)/N;\n",
    "    x=np.array([h*((x)-N/2) for x in range(N)],dtype=float);\n",
    "    #x=x[:];\n",
    "    Z=h;\n",
    "    h2=h**2;\n",
    "    h2p=h/2;\n",
    "    fun= lambda t:Z*np.conj(brizerKM(x+h2p,-h2*t,a));\n",
    "\n",
    "    return [fun,Z,x]\n",
    "   \n",
    "   # fun=@(t) Z*conj(brizerKM(x+h2p,-h2*t,a));\n",
    "\n",
    "def mbrizerKM(N,m,Nt,dt,offst,a):\n",
    "   # [F,X,T] [rbr,h,x]\n",
    "    F=np.zeros((Nt,N),dtype=complex);\n",
    "    if not offst:\n",
    "        offst=0;\n",
    "    if not a:\n",
    "        a=1/4;\n",
    "    [rbr,h,x]=rbrizerKM(N,m,a);\n",
    "    h2=h**2;\n",
    "    tt=np.zeros(Nt,dtype=float);\n",
    "    for k in range(Nt):\n",
    "        t=dt*((k-1)-Nt/2+offst);\n",
    "        tt[k]=h2*t;\n",
    "        F[:][k]=rbr(t);\n",
    "    [T,X]=np.meshgrid(tt,x);\n",
    "    return [F,X,T]\n",
    "\n"
   ]
  },
  {
   "cell_type": "code",
   "execution_count": null,
   "metadata": {},
   "outputs": [
    {
     "name": "stdout",
     "output_type": "stream",
     "text": [
      "start end 9.8375 sec\n"
     ]
    }
   ],
   "source": [
    "from utils import *\n",
    "from skimage.transform import resize\n",
    "import k3d\n",
    "import matplotlib.pyplot as plt\n",
    "from ipywidgets import interact\n",
    "from ipywidgets import interact_manual\n",
    "\n",
    "%matplotlib inline\n",
    "#interact_manual(a=(0.1, 1, 0.05))\n",
    "def plot_a(a):\n",
    "    Period=3;\n",
    "    Period=4;\n",
    "    Period=3;\n",
    "    Period=5;\n",
    "    Period=7;\n",
    "    rep=2560/4*5;\n",
    "    rep=2048/4*4;\n",
    "    Nt=4*1000/1;\n",
    "    N=1*16*1024/2;\n",
    "    N=1*16*1024/1;\n",
    "    Nt=1000;\n",
    "\n",
    "\n",
    "    A=1/2.8;\n",
    "    A=1/4;\n",
    "    A=1/8;\n",
    "    A=1-1/8\n",
    "    A=1-3/4\n",
    "    A=a;\n",
    "    tic('start')\n",
    "    [F,T,X]=mbrizerKM(int(N),Period,Nt,rep,0*Nt/4,A)\n",
    "    toc(' end')\n",
    "    #Ta=tt(1,:);\n",
    "    xxe=np.zeros((Nt,int(N)),dtype=float);\n",
    "    xxe=abs(F);\n",
    "    Nv=20\n",
    "    ff=resize(xxe,(Nv,Nv));\n",
    "    tt=resize(T,(Nv,Nv));\n",
    "    zz=resize(X,(Nv,Nv));\n",
    "    plot = k3d.plot();\n",
    "    \n",
    "    xmin, xmax, ymin, ymax = -8, 8, -8, 8   ;\n",
    "    cm = k3d.matplotlib_color_maps.Hsv;\n",
    "    z=10*xxe/np.max(xxe.flatten());\n",
    "    plt_surface = k3d.surface(z, color_map=cm,wireframe=False, attribute=z, color_range=[-2,6],  xmin=xmin, xmax=xmax, ymin=ymin, ymax=ymax)\n",
    "    plt_surface.grid=(xmin, xmax,ymin,ymax)\n",
    "\n",
    "    plot += plt_surface\n",
    "    plot.display();\n",
    "\n",
    "plot_a(0.75)\n",
    "\n"
   ]
  },
  {
   "cell_type": "code",
   "execution_count": 33,
   "metadata": {},
   "outputs": [
    {
     "data": {
      "application/vnd.jupyter.widget-view+json": {
       "model_id": "1ebb35bc94f34507bf805614169a7bdc",
       "version_major": 2,
       "version_minor": 0
      },
      "text/plain": [
       "Output()"
      ]
     },
     "metadata": {},
     "output_type": "display_data"
    }
   ],
   "source": [
    "import k3d\n",
    "import numpy as np\n",
    "\n",
    "Nx, Ny  = 34, 33\n",
    "xmin, xmax = -3, 4\n",
    "ymin, ymax = -0, 3\n",
    "\n",
    "x = np.linspace(xmin, xmax, Nx)\n",
    "y = np.linspace(ymin, ymax, Ny)\n",
    "x, y = np.meshgrid(x, y)\n",
    "f = np.sin(x**2 + y**2)\n",
    "cm = k3d.matplotlib_color_maps.Hsv;\n",
    "plot = k3d.plot()\n",
    "z=f.astype(np.float32)\n",
    "plt_surface = k3d.surface(z, attribute=z, color_range=[-2,6], color_map=cm, bounds=[xmin,xmax,ymin,ymax])\n",
    "plot += plt_surface\n",
    "plot.display()"
   ]
  },
  {
   "cell_type": "code",
   "execution_count": null,
   "metadata": {},
   "outputs": [],
   "source": []
  },
  {
   "cell_type": "code",
   "execution_count": null,
   "metadata": {},
   "outputs": [],
   "source": []
  },
  {
   "cell_type": "code",
   "execution_count": null,
   "metadata": {},
   "outputs": [],
   "source": []
  }
 ],
 "metadata": {
  "kernelspec": {
   "display_name": "Python 3",
   "language": "python",
   "name": "python3"
  },
  "language_info": {
   "codemirror_mode": {
    "name": "ipython",
    "version": 3
   },
   "file_extension": ".py",
   "mimetype": "text/x-python",
   "name": "python",
   "nbconvert_exporter": "python",
   "pygments_lexer": "ipython3",
   "version": "3.7.9"
  }
 },
 "nbformat": 4,
 "nbformat_minor": 4
}
