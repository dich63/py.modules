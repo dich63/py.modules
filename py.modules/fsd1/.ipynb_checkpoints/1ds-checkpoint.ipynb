{
 "cells": [
  {
   "cell_type": "code",
   "execution_count": 1,
   "id": "db5a9816",
   "metadata": {},
   "outputs": [
    {
     "name": "stdout",
     "output_type": "stream",
     "text": [
      "import:  D:\\dich\\2019_02_20_04-49-14\\ipc\\py.modules\\waves\\fluid_solid_1FEM.py\n",
      "make_sf_1D_full: 5.38496 sec\n",
      "jso:{\n",
      "Np:19999\n",
      "dx:0.1\n",
      "m:0.28\n",
      "gamma:1\n",
      "eta:2e-05\n",
      "eta_p:0.0008\n",
      "kappa:1\n",
      "K_s:39000000000.0\n",
      "K_f:57000000000.0\n",
      "K_m:8500000000.0\n",
      "rho_s:2650\n",
      "rho_f:700.0\n",
      "eps:1e-15\n",
      "kwd:{}\n",
      "mKx:array([[4.28880112e+10, 3.27296820e+10],\n",
      "       [3.27296820e+10, 4.18510688e+10]])\n",
      "mMx:array([[2104.,  700.],\n",
      "       [ 700., 2500.]])\n",
      "mKdx:array([[34310408.96532939,        0.        ],\n",
      "       [       0.        ,        0.        ]])\n",
      "mMdx:array([[0.e+00, 0.e+00],\n",
      "       [0.e+00, 2.e-05]])\n",
      "}\n"
     ]
    },
    {
     "data": {
      "application/vnd.jupyter.widget-view+json": {
       "model_id": "806dd3501a6e4e1eac783b4164ce1518",
       "version_major": 2,
       "version_minor": 0
      },
      "text/plain": [
       "Canvas(toolbar=Toolbar(toolitems=[('Home', 'Reset original view', 'home', 'home'), ('Back', 'Back to previous …"
      ]
     },
     "metadata": {},
     "output_type": "display_data"
    }
   ],
   "source": [
    "from utils import *\n",
    "from jsobj import *\n",
    "from IPython.display import display, clear_output\n",
    "import numpy as np\n",
    "norm=np.linalg.norm\n",
    "\n",
    "#from waves.fluid_solid_1FEM import *\n",
    "from waves.fluid_solid_regions import *\n",
    "from LIPA2.qp_solver import *\n",
    "#[smK,smG,smM,params]=py.lncall('make_sf_1D_full',{N,dx},{'fcycle',fcycle},{'rho_f',0.7e3},{'xeta_p',0.8e-3},{'eta',0.2e-4},{'m',mp});\n",
    "N=16000;\n",
    "N=20000;\n",
    "fcycle=0\n",
    "dx=0.1\n",
    "mp=0.2\n",
    "mp=0.5\n",
    "mp=0.28\n",
    "#mp=0.028\n",
    "\n",
    "\n",
    "\n",
    "tic()\n",
    "\n",
    "mK,mM,mG,params0=make_sf_1D_rgn(N-1,dx,rho_f=0.7e3,eta_p=0.8e-3,eta=0.2e-4,m=mp)\n",
    "\n",
    "model=reparse_mesh(':file:mod0.json')\n",
    "model=model2ext(model)\n",
    "prms0=to_dict(model.main_region.params)\n",
    "'''\n",
    "prms0['gamma']=1.0\n",
    "prms0['kappa']=1.0\n",
    "prms0['rho_s']=2650.0\n",
    "'''\n",
    "prms={\n",
    " \n",
    "\"qm\":0.28,\n",
    "\"qgamma\":1,\n",
    "\"qeta\":2e-05,\n",
    "\"qeta_p\":0.0008,\n",
    "\"qkappa\":1,\n",
    "\"K_s\":39000000000.0,\n",
    "\"K_f\":57000000000.0,\n",
    "\"K_m\":8500000000.0,\n",
    "\"qrho_s\":2650,\n",
    "\"qrho_f\":700.0,\n",
    " \"qeps\":1e-15\n",
    "}\n",
    "#prms0.update(prms)\n",
    "#\n",
    "[smK,smG,smM,params]=make_sf_1D_full(N,dx,fcycle=fcycle,**prms0);\n",
    "\n",
    "#[smK,smG,smM,params]=make_sf_1D_full(N,dx,fcycle=fcycle,rho_f=0.7e3,eta_p=0.8e-3,eta=0.2e-4,m=mp);\n",
    "toc('make_sf_1D_full:')\n",
    "print(repr(jso(params)))\n",
    "'''\n",
    "tic();mK,mM,mG,dx,N,model=model2FEM1D(':file:mod0.json',N);toc(':')\n",
    "tic();[smK,smG,smM]=make_sf_FEM([mK,mG,mM]);toc('sp:')\n",
    "N=int(smK.shape[0]/2)\n",
    "'''\n",
    "\n",
    "\n",
    "mm=2\n",
    "D=0.01\n",
    "#D=0.0025\n",
    "#D=0.00025\n",
    "D=0.01\n",
    "D=0.001\n",
    "D=0.1\n",
    "r=2*(np.arange(0,N)/N) -1\n",
    "\n",
    "x0=np.exp(-(np.abs(r)/D)**mm);\n",
    "f0=r*x0;\n",
    "f0=(r**3)*x0;\n",
    "##################################\n",
    "f0[:]=0\n",
    "f0[0]=1\n",
    "%matplotlib inline\n",
    "import matplotlib.pyplot as plt\n",
    "%matplotlib widget\n",
    "#fig=plt.figure(figsize=(12,8))\n",
    "fig, ax = plt.subplots(figsize=(12,8))\n",
    "#fig.suptitle('sensors data + pure response ', fontsize=16)\n",
    "ax.grid(True,which='major')\n",
    "ax.minorticks_on()\n",
    "ax.grid(True,which='minor',alpha=0.2)\n",
    "\n",
    "ax.plot(r,f0,label='forces couple')\n",
    "legend = ax.legend(loc='upper right', shadow=True, fontsize='x-large')\n",
    "\n",
    "\n",
    "\n"
   ]
  },
  {
   "cell_type": "code",
   "execution_count": null,
   "id": "cb9c679d",
   "metadata": {},
   "outputs": [],
   "source": [
    "prms0.update(prms)\n",
    "prms0"
   ]
  },
  {
   "cell_type": "code",
   "execution_count": 2,
   "id": "1c48490b",
   "metadata": {},
   "outputs": [
    {
     "data": {
      "application/vnd.jupyter.widget-view+json": {
       "model_id": "b002f75449454d92a28898d587d43491",
       "version_major": 2,
       "version_minor": 0
      },
      "text/plain": [
       "Canvas(toolbar=Toolbar(toolitems=[('Home', 'Reset original view', 'home', 'home'), ('Back', 'Back to previous …"
      ]
     },
     "metadata": {},
     "output_type": "display_data"
    },
    {
     "name": "stdout",
     "output_type": "stream",
     "text": [
      " 3.10284 sec\n"
     ]
    },
    {
     "data": {
      "text/plain": [
       "3.1028427"
      ]
     },
     "execution_count": 2,
     "metadata": {},
     "output_type": "execute_result"
    }
   ],
   "source": [
    "from LIPA2.qp_solver import *\n",
    "\n",
    "#py.call('lb=lipa_qp_base_t',{smK,smG,smM},pade_nm,'sp_LU_factory',nd);\n",
    "dt=0.2;\n",
    "dt=0.02;\n",
    "dt=0.01\n",
    "pade_nm=[4,6]\n",
    "#pade_nm=[8,8]\n",
    "nd=4\n",
    "solver=lipa_qp_base_t([smK,smG,smM],pade_nm,'sp_LU_factory',nd)\n",
    "solver.reset(dt)\n",
    "\n",
    "f=np.zeros([N,2],dtype=np.complex);\n",
    "f[:,0]=f0\n",
    "f[:,1]=f0\n",
    "solver.x=0\n",
    "solver.f=f.reshape(-1)\n",
    "\n",
    "\n",
    "\n",
    "vf=lambda x,y: y+mp*x\n",
    "\n",
    "fig2, ax2 = plt.subplots(figsize=(12,8))\n",
    "#fig.suptitle('sensors data + pure response ', fontsize=16)\n",
    "\n",
    "ax2.grid(True,which='major')\n",
    "ax2.minorticks_on()\n",
    "ax2.grid(True,which='minor',alpha=0.2)\n",
    "def step_plot(rep=10,d=0):\n",
    "    nb=0\n",
    "    xx=solver(rep).reshape(nd,-1,2)\n",
    "    x=xx[d][nb:,0]\n",
    "    y=xx[d][nb:,1]\n",
    "    r1=r[nb:]\n",
    "    ax2.clear()\n",
    "    ax2.plot(r1,x.real,label='solid')\n",
    "    ax2.plot(r1,vf(x,y).real,label='fluid')\n",
    "    legend = ax2.legend(loc='upper right', shadow=True, fontsize='x-large')\n",
    "\n",
    "\n",
    "step_plot(rep=0,d=1)\n",
    "\n",
    "\n",
    "tic();step_plot(rep=31,d=0);toc('')\n",
    "\n",
    "\n"
   ]
  },
  {
   "cell_type": "code",
   "execution_count": 3,
   "id": "503c12e9",
   "metadata": {},
   "outputs": [
    {
     "name": "stdout",
     "output_type": "stream",
     "text": [
      " 0.0375064 sec\n"
     ]
    },
    {
     "data": {
      "text/plain": [
       "0.037506400000001605"
      ]
     },
     "execution_count": 3,
     "metadata": {},
     "output_type": "execute_result"
    }
   ],
   "source": [
    "tic();step_plot(rep=0,d=3);toc('')"
   ]
  },
  {
   "cell_type": "code",
   "execution_count": null,
   "id": "2799d3d3",
   "metadata": {},
   "outputs": [],
   "source": [
    "xx=solver(1).reshape(nd,-1,2)\n",
    "max(xx.reshape(-1))"
   ]
  },
  {
   "cell_type": "code",
   "execution_count": null,
   "id": "afdecae0",
   "metadata": {},
   "outputs": [],
   "source": [
    "vf=lambda x,y: (y+x*mp)"
   ]
  },
  {
   "cell_type": "code",
   "execution_count": null,
   "id": "2d76921c",
   "metadata": {},
   "outputs": [],
   "source": [
    "NT=200;\n",
    "tt=np.arange(0,NT)*dt\n",
    "yy=solver.dump(NT,2);\n",
    "q=yy.reshape(200,nd,-1,2)"
   ]
  },
  {
   "cell_type": "code",
   "execution_count": null,
   "id": "5eb1b17a",
   "metadata": {},
   "outputs": [],
   "source": [
    "yx=yy[:,1,3]"
   ]
  },
  {
   "cell_type": "code",
   "execution_count": null,
   "id": "5311b28d",
   "metadata": {},
   "outputs": [],
   "source": [
    "fig, ax = plt.subplots(figsize=(12,8))\n",
    "#fig.suptitle('sensors data + pure response ', fontsize=16)\n",
    "ax.grid(True,which='major')\n",
    "ax.minorticks_on()\n",
    "ax.grid(True,which='minor',alpha=0.2)\n",
    "xd=3000\n",
    "d=2\n",
    "ax.plot(tt,q[:,d,xd,0],tt,q[:,d,xd,1])\n",
    "legend = ax.legend(loc='upper right', shadow=True, fontsize='x-large')\n"
   ]
  },
  {
   "cell_type": "code",
   "execution_count": null,
   "id": "6a4b8cb0",
   "metadata": {},
   "outputs": [],
   "source": [
    "xx=solver(1).reshape(nd,-1,2)"
   ]
  },
  {
   "cell_type": "code",
   "execution_count": null,
   "id": "19ae592d",
   "metadata": {},
   "outputs": [],
   "source": [
    "solver.xx=0"
   ]
  },
  {
   "cell_type": "code",
   "execution_count": null,
   "id": "239d67f9",
   "metadata": {},
   "outputs": [],
   "source": [
    "solver(1).shape"
   ]
  },
  {
   "cell_type": "code",
   "execution_count": null,
   "id": "e1e23de1",
   "metadata": {},
   "outputs": [],
   "source": [
    "yy.shape"
   ]
  },
  {
   "cell_type": "code",
   "execution_count": null,
   "id": "214dfa77",
   "metadata": {},
   "outputs": [],
   "source": [
    "q=yy.reshape(200,nd,-1,2)"
   ]
  },
  {
   "cell_type": "code",
   "execution_count": null,
   "id": "c0a5e539",
   "metadata": {},
   "outputs": [],
   "source": [
    "smK"
   ]
  },
  {
   "cell_type": "code",
   "execution_count": null,
   "id": "9f58efaf",
   "metadata": {},
   "outputs": [],
   "source": [
    "tic();mK,mM,mG,dx,N,model=model2FEM1D(':file:model1D.json',N);toc(':')\n",
    "tic();[smK,smG,smM]=make_sf_FEM([mK,mG,mM]);toc('sp:')\n"
   ]
  },
  {
   "cell_type": "code",
   "execution_count": null,
   "id": "152d50d3",
   "metadata": {},
   "outputs": [],
   "source": [
    "mK,mM,mG,dx"
   ]
  },
  {
   "cell_type": "code",
   "execution_count": null,
   "id": "979101c9",
   "metadata": {},
   "outputs": [],
   "source": [
    "model"
   ]
  },
  {
   "cell_type": "code",
   "execution_count": null,
   "id": "cb847b63",
   "metadata": {},
   "outputs": [],
   "source": [
    "__file__"
   ]
  }
 ],
 "metadata": {
  "kernelspec": {
   "display_name": "Python 3",
   "language": "python",
   "name": "python3"
  },
  "language_info": {
   "codemirror_mode": {
    "name": "ipython",
    "version": 3
   },
   "file_extension": ".py",
   "mimetype": "text/x-python",
   "name": "python",
   "nbconvert_exporter": "python",
   "pygments_lexer": "ipython3",
   "version": "3.7.9"
  }
 },
 "nbformat": 4,
 "nbformat_minor": 5
}
