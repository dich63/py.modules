{
 "cells": [
  {
   "cell_type": "markdown",
   "id": "decimal-relation",
   "metadata": {},
   "source": [
    "\\begin{gathered}\n",
    "  z \\to {h^{ - 2}}{\\beta _2}z;\\alpha  \\to {h^2}\\alpha /{\\beta _2} \\hfill \\\\\n",
    "  \\theta \\left( z \\right) = \\int_0^z {\\alpha \\left( \\zeta  \\right)d\\zeta }  \\hfill \\\\\n",
    "  {g_z} = {e^{2\\operatorname{Re} \\theta \\left( z \\right)}}sign\\left( \\gamma  \\right) \\hfill \\\\\n",
    "  {\\Psi _n}\\left( z \\right) = {e^{\\theta \\left( z \\right)}}h{\\left( {\\frac{{\\left| \\gamma  \\right|}}{{{\\beta _2}}}} \\right)^{\\frac{1}{2}}}A\\left( {z,hn} \\right) \\hfill \\\\ \n",
    "\\end{gathered}"
   ]
  },
  {
   "cell_type": "code",
   "execution_count": null,
   "id": "recovered-lobby",
   "metadata": {},
   "outputs": [],
   "source": []
  }
 ],
 "metadata": {
  "kernelspec": {
   "display_name": "Python 3",
   "language": "python",
   "name": "python3"
  },
  "language_info": {
   "codemirror_mode": {
    "name": "ipython",
    "version": 3
   },
   "file_extension": ".py",
   "mimetype": "text/x-python",
   "name": "python",
   "nbconvert_exporter": "python",
   "pygments_lexer": "ipython3",
   "version": "3.7.9"
  }
 },
 "nbformat": 4,
 "nbformat_minor": 5
}
