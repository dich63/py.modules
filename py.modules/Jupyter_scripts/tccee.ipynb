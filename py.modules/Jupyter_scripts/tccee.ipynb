{
 "cells": [
  {
   "cell_type": "markdown",
   "id": "therapeutic-greenhouse",
   "metadata": {},
   "source": [
    "$$\\newcommand{\\braket}[1]{ \\left| { #1 } \\right\\rangle }$$\n",
    "$$\n",
    "\\boxed{\n",
    "\\braket{\\tilde J(t) }  \\equiv \\braket{J(t) }  + \\braket{\\phi(t_0) } \\delta (t - {t_0})  \\Rightarrow \n",
    "  \\braket{\\phi(t) }  = \\int\\limits_{ - \\infty }^{ + \\infty } {d{t_0}\\hat G(t-t_0)} \\braket{\\tilde J(t_0) }  \n",
    "} \n",
    "$$\n",
    "aa\n",
    "$$\n",
    "\\frac{\\partial }{{\\partial z }}{\\Psi _n} = {\\Psi _{n + 1}} + {\\Psi _{n - 1}} - 2{\\Psi _n}\n",
    "$$\n",
    "Это коммент\n",
    "$$\n",
    " \\frac{d}{{dt}}\\braket{\\phi }  = \\hat A \\braket{\\phi } \\Rightarrow \\braket{\\phi(t) } = \\exp( (t-t_0) \\hat A) \\braket{\\phi(t_0) }\n",
    "$$\n",
    "\n",
    "$$\n",
    "\\frac{d}{{dt}} \\braket{\\phi }   = \\hat A \\braket{\\phi }  + \\braket{J(t) } \\label{qq}\n",
    "$$\n",
    "\n",
    "$$\n",
    " \\hat G(\\tau ) = \\theta (\\tau) \\exp (\\tau \\hat A) \n",
    "\\Rightarrow \\braket{\\phi (t) }  = \n",
    "\\exp( (t-t_0) \\hat A)  \\braket{\\phi(t_0) } \n",
    "+\\int\\limits_{ - \\infty }^{ + \\infty } {d{t_0}\\hat G(t-t_0)}  \\braket{J(t_0) }  \n",
    "$$\n",
    "\n",
    "$$\n",
    " C(z,\\bar z )   \\frac{d}{{dt}}p(z,\\bar z ) \n",
    "=   \\sigma  \\frac{1}{2} {\\partial_z }{\\partial_{\\bar z }}p(z,\\bar z ) \n",
    "$$"
   ]
  },
  {
   "cell_type": "code",
   "execution_count": 1,
   "id": "subject-tennis",
   "metadata": {
    "scrolled": false
   },
   "outputs": [
    {
     "name": "stdout",
     "output_type": "stream",
     "text": [
      "pid= 1900\n",
      "context_wrapper=D:\\dich\\2019_02_20_04-49-14\\ipc\\py.modules\\NLS\\bin/ictx/ictxwrr.dll\n",
      "nls_pade_lib=D:\\dich\\2019_02_20_04-49-14\\ipc\\py.modules\\NLS\\bin/nls_pade.dll\n",
      "ssf_lib=D:\\dich\\2019_02_20_04-49-14\\ipc\\py.modules\\NLS\\bin/ssf.dll\n"
     ]
    },
    {
     "data": {
      "application/vnd.jupyter.widget-view+json": {
       "model_id": "df563c0e39844fe099237481c673c6c6",
       "version_major": 2,
       "version_minor": 0
      },
      "text/plain": [
       "Output()"
      ]
     },
     "metadata": {},
     "output_type": "display_data"
    },
    {
     "data": {
      "application/vnd.jupyter.widget-view+json": {
       "model_id": "2a6c41f2c68741d3975d12c3382660c6",
       "version_major": 2,
       "version_minor": 0
      },
      "text/plain": [
       "Output()"
      ]
     },
     "metadata": {},
     "output_type": "display_data"
    },
    {
     "data": {
      "application/vnd.jupyter.widget-view+json": {
       "model_id": "0569360af7d84ca3a1c57562d4a21f6a",
       "version_major": 2,
       "version_minor": 0
      },
      "text/plain": [
       "Output()"
      ]
     },
     "metadata": {},
     "output_type": "display_data"
    },
    {
     "ename": "NameError",
     "evalue": "name 'plt' is not defined",
     "output_type": "error",
     "traceback": [
      "\u001b[1;31m---------------------------------------------------------------------------\u001b[0m",
      "\u001b[1;31mNameError\u001b[0m                                 Traceback (most recent call last)",
      "\u001b[1;32m<ipython-input-1-28a9227c3f8d>\u001b[0m in \u001b[0;36m<module>\u001b[1;34m\u001b[0m\n\u001b[0;32m     91\u001b[0m \u001b[1;33m\u001b[0m\u001b[0m\n\u001b[0;32m     92\u001b[0m \u001b[1;33m\u001b[0m\u001b[0m\n\u001b[1;32m---> 93\u001b[1;33m \u001b[0mfig\u001b[0m \u001b[1;33m=\u001b[0m \u001b[0mplt\u001b[0m\u001b[1;33m.\u001b[0m\u001b[0mfigure\u001b[0m\u001b[1;33m(\u001b[0m\u001b[1;36m1\u001b[0m\u001b[1;33m,\u001b[0m\u001b[0mfigsize\u001b[0m\u001b[1;33m=\u001b[0m\u001b[1;33m(\u001b[0m\u001b[1;36m10\u001b[0m\u001b[1;33m,\u001b[0m\u001b[1;36m8\u001b[0m\u001b[1;33m)\u001b[0m\u001b[1;33m)\u001b[0m\u001b[1;33m\u001b[0m\u001b[1;33m\u001b[0m\u001b[0m\n\u001b[0m\u001b[0;32m     94\u001b[0m \u001b[1;33m\u001b[0m\u001b[0m\n\u001b[0;32m     95\u001b[0m \u001b[1;32mdef\u001b[0m \u001b[0manimclosure\u001b[0m\u001b[1;33m(\u001b[0m\u001b[0mfig\u001b[0m\u001b[1;33m,\u001b[0m\u001b[0mxxr\u001b[0m\u001b[1;33m,\u001b[0m\u001b[0mtt\u001b[0m\u001b[1;33m,\u001b[0m\u001b[0mhz\u001b[0m\u001b[1;33m,\u001b[0m\u001b[0mfun\u001b[0m\u001b[1;33m)\u001b[0m\u001b[1;33m:\u001b[0m\u001b[1;33m\u001b[0m\u001b[1;33m\u001b[0m\u001b[0m\n",
      "\u001b[1;31mNameError\u001b[0m: name 'plt' is not defined"
     ]
    }
   ],
   "source": [
    "from utils import *\n",
    "from NLS.brizers import *\n",
    "from NLS.nls_adapter import *\n",
    "import cmath\n",
    "import numpy as np\n",
    "from skimage.transform import resize\n",
    "from skimage.transform import downscale_local_mean\n",
    "from matplotlib import pyplot as plt\n",
    "\n",
    "from matplotlib.animation import FuncAnimation\n",
    "\n",
    "from plots.k3dsurf import surf,cmps\n",
    "#from plots.animclosure import *\n",
    "\n",
    "\n",
    "import k3d\n",
    "\n",
    "%matplotlib notebook\n",
    "\n",
    "A=1-1/8\n",
    "A=1\n",
    "A=0.6\n",
    "N=16*1024\n",
    "NZ=1000;\n",
    "#NZ=200;\n",
    "\n",
    "mm=256+256;\n",
    "mm=2;\n",
    "mm=32\n",
    "mm=2\n",
    "\n",
    "omagnus=1\n",
    "#mm=256;\n",
    "#omagnus=0\n",
    "flags=-1;\n",
    "\n",
    "flags=0;\n",
    "alpha=0*1e-8;\n",
    "\n",
    "sname='nls-exp-dec';\n",
    "sname='nls';\n",
    "#sname='ssf';omagnus=0\n",
    "\n",
    "[pT,pZ]=brizerKM_periods(A);\n",
    "LT=5*abs(pT);\n",
    "LZ=8/11*2*2.5*abs(pZ);\n",
    "NvT=200;\n",
    "NvZ=300;\n",
    "tLv=np.linspace(-LT,LT,NvT);\n",
    "zLv=np.linspace(-LZ*0,LZ,NvZ);\n",
    "[TTv,ZZv]=np.meshgrid(tLv,zLv);\n",
    "#figure\n",
    "#tic\n",
    "\n",
    "\n",
    "surf(lambda T,Z: np.abs(brizerKM(T,Z,A)),[TTv,ZZv],Xmm=[-1,1],Ymm=[-1,1],axes=['T','z','|\\\\Psi(T,z)|'],cmp=cmps.twilight_shifted).display()\n",
    "\n",
    "FFv=brizerKM(TTv,ZZv,A);\n",
    "surf(FFv.real,[TTv,ZZv],Xmm=[-1,1],Ymm=[-1,1],axes=['T','z','\\\\Re\\\\Psi(T,z)']).display()\n",
    "surf(FFv.imag,[TTv,ZZv],Xmm=[-1,1],Ymm=[-1,1],axes=['T','z','\\\\Im\\\\Psi(T,z)']).display()\n",
    "\n",
    "tt=np.linspace(-LT,LT,N+1);\n",
    "tt=tt[0:N]\n",
    "g=1;\n",
    "[nls,dzu,h]=nls_rescale_to(tt,sname,g);\n",
    "hz=LZ/NZ; \n",
    "dz=hz* dzu/mm\n",
    "\n",
    "nls.reset(dt=dz,nm=[4,4],omagnus=omagnus,alpha=alpha,w=1/3,flags=flags);\n",
    "\n",
    "z=0;\n",
    "x0=brizerKM(tt,z,A);\n",
    "\n",
    "\n",
    "nls.x=x0;\n",
    "xr=x0;\n",
    "xe=x0;\n",
    "\n",
    "xxr=np.zeros((NZ,N), dtype=complex);\n",
    "xxr[0,:]=xr;\n",
    "\n",
    "\n",
    "#def callback(tt,z,nls)\n",
    "\n",
    "\n",
    "fun = lambda tt,z: [brizerKM(tt,z,A),nls(rep=int(mm),pp=1),nls.elapsed] \n",
    "\n",
    "#fun = lambda tt,z: [brizerKM(tt,z,A),brizerKM(tt,z,A),nls.elapsed] \n",
    "\n",
    "\n",
    "\n",
    "\n",
    "\n",
    "\n",
    "fig = plt.figure(1,figsize=(10,8))\n",
    "\n",
    "def animclosure(fig,xxr,tt,hz,fun):\n",
    "    \n",
    "    xr=xxr[0,:];\n",
    "    NZ,N=xxr.shape\n",
    "    \n",
    "    nr=np.linalg.norm(x0)*(np.max(tt)-np.min(tt))/N;\n",
    "    z=0\n",
    "    errmax=-1e100;\n",
    "    \n",
    "\n",
    "    #ax = plt.axes(xlim=(np.min(tt), np.max(tt)), ylim=(-2,2))\n",
    "    ax = fig.add_subplot(211,xlim=(np.min(tt), np.max(tt)), ylim=(-4,4))\n",
    "    \n",
    "    ax.legend(loc=4) \n",
    "    \n",
    "    \n",
    "    \n",
    "    ax2=fig.add_subplot(212,xlim=(np.min(tt), np.max(tt)), ylim=(1e-13,100))#, yscale='log');\n",
    "    \n",
    "    \n",
    "    line, = ax.plot([], [], linewidth=0.5)\n",
    "    line2, = ax.plot([], [], linewidth=1)\n",
    "    line11,=ax.plot([], [], linewidth=1)\n",
    "    line21,=ax.plot([], [], linewidth=1)\n",
    "    \n",
    "    \n",
    "    \n",
    "    line3, = ax2.semilogy([], [], linewidth=0.5)\n",
    "    line4, = ax2.semilogy([], [], linewidth=1)\n",
    "    \n",
    "    #xr=np.arange(np.size(t)*int(REP), dtype=np.clongdouble).reshape(int(REP),np.size(t));\n",
    "    #xr=np.arange(np.size(tt)*int(NZ), dtype=np.clongdouble).reshape(int(NZ),np.size(tt));\n",
    "    #xe=np.arange(np.size(tt)*int(NZ), dtype=np.clongdouble).reshape(int(NZ),np.size(tt));\n",
    "    #axe=np.arange(np.size(tt)*int(NZ), dtype=np.clongdouble).reshape(int(NZ),np.size(tt));\n",
    "    #for n in range(2,NZ):\n",
    "    \n",
    "    xe=np.empty_like(xxr);\n",
    "    axe=np.empty_like(xxr,dtype='d');\n",
    "\n",
    "\n",
    "\n",
    "    def animate1(i):\n",
    "        \n",
    "        #te=nls.elapsed[0];\n",
    "        #ne=nls.elapsed[1];\n",
    "        #xxr[n]=xr[i+1];\n",
    "        nonlocal hz;\n",
    "        nonlocal z,nr,errmax,ax,ax2,xe,axe,fig;\n",
    "        nonlocal line,line2,line11,line21,line3,line4;\n",
    "        \n",
    "    \n",
    "        z=z+hz;\n",
    "        #xe[i+1]=np.conj(brizerKM(tt,z,A));  \n",
    "        #xxr[i+1]=nls(rep=int(mm),pp=1);\n",
    "        #xe[i+1]=(brizerKM(tt,z,A));\n",
    "        xe[i+1],xxr[i+1],elapsed=fun(tt,z);\n",
    "        tcpu,niter=elapsed;\n",
    "        ax.set_title(sprintf(\"[%d] elapsed: $\\\\tau_{cpu}$=%3.3f sec iter=%d\",i,tcpu,niter))\n",
    "        \n",
    "        axe[i+1]=np.abs(xe[i+1]);\n",
    "        line.set_data(tt, axe[i+1]);\n",
    "        line.set_label('Psi')\n",
    "        \n",
    "        \n",
    "        line2.set_data(tt, np.abs(xxr[i+1]));\n",
    "        line11.set_data(tt, np.real(xe[i+1]));\n",
    "        line21.set_data(tt, np.real(xxr[i+1]));\n",
    "\n",
    "        line3.set_data(tt,(np.abs(np.abs(xe[i+1])-np.abs(xxr[i+1]))/nr)**2);\n",
    "        line4.set_data(tt,np.abs(((xe[i+1]-xxr[i+1])/nr))**2);\n",
    "\n",
    "        #set(0, 'CurrentFigure', fh);\n",
    "        #subplot(2,1,1)\n",
    "\n",
    "        #plot(tt,abs(xe),'b',tt,abs(xr),'m',tt,gfun(xe),'k',tt,gfun(xr),'g');grid minor;legend('|\\Psi_{an}|','|\\Psi_{num}|','Re\\Psi_{an}','Re\\Psi_{num}')\n",
    "        #title(sprintf('[%d] z=%f elapsed=[sec:%3.3f iter:%d ]',n,z,te,ne));\n",
    "        # subplot(2,1,2)\n",
    "        #semilogy(tt,(abs(abs(xe)-abs(xr))/nr).^2,tt,(abs(xe-xr)/nr).^2);grid minor;legend('|\\delta\\rho|','|\\delta\\Psi|')\n",
    "        #axis([-LT,LT,1e-14,5]);\n",
    "        em=20*np.log10(np.max(np.abs(xe[i+1]-xxr[i+1])/nr));\n",
    "        if errmax<em:\n",
    "            errmax=em;\n",
    "        ax2.set_title(sprintf(\"$\\\\epsilon=%3.2f [\\\\epsilon_{max}:%3.2f][dB]$  \",em,errmax))\n",
    "        ax2.grid(True)\n",
    "        ax.grid(True)\n",
    "        legend = plt.legend()\n",
    "        return [line,line2,line11,line21,line3,line4]#+[legend]\n",
    "    \n",
    "    \n",
    "    #\n",
    "    \n",
    "    #animate1(0);\n",
    "    \n",
    "    \n",
    "    return animate1\n",
    "\n",
    "\n",
    "    #title(sprintf('error Brizer - %s  err = %3.1f dB [%3.1f dB]_{max}  [magnus=%d,flags=%d]  ',sname,em,errmax,omagnus,flags));\n",
    "    #;refresh;pause(0.1);\n",
    "    #% ============================== grapics\n",
    "\n",
    "\n",
    "\n",
    "animate1=animclosure(fig,xxr,tt,hz,fun)\n",
    "anim = FuncAnimation(fig, animate1, frames=int(NZ), interval=200, blit=True, repeat=False)\n",
    "#animate1(0);\n",
    "plt.show()\n",
    "\n",
    "\n",
    "    \n",
    "\n",
    "#figure\n",
    "\n",
    "#surf(ZZv,TTv,abs(xxv))\n",
    "\n",
    "#title(stxt)"
   ]
  },
  {
   "cell_type": "code",
   "execution_count": 27,
   "id": "advance-roller",
   "metadata": {},
   "outputs": [
    {
     "data": {
      "application/vnd.jupyter.widget-view+json": {
       "model_id": "9444af2fb1224ba9aa17ec590ff6066f",
       "version_major": 2,
       "version_minor": 0
      },
      "text/plain": [
       "Output()"
      ]
     },
     "metadata": {},
     "output_type": "display_data"
    },
    {
     "data": {
      "application/vnd.jupyter.widget-view+json": {
       "model_id": "38988480a08a4741a12115143ac4de4a",
       "version_major": 2,
       "version_minor": 0
      },
      "text/plain": [
       "Output()"
      ]
     },
     "metadata": {},
     "output_type": "display_data"
    },
    {
     "data": {
      "application/vnd.jupyter.widget-view+json": {
       "model_id": "8223c301db054c519f55549d7274733c",
       "version_major": 2,
       "version_minor": 0
      },
      "text/plain": [
       "Output()"
      ]
     },
     "metadata": {},
     "output_type": "display_data"
    }
   ],
   "source": [
    "xxv=resize(np.abs(xxr),(NvZ,NvT));\n",
    "surf(xxv,[TTv,ZZv],Xmm=[-1,1],Ymm=[-1,1],axes=['T','z','|\\\\Psi(T,z)|'],cmp=cmps.twilight_shifted).display()\n",
    "xxv=resize(xxr.real,(NvZ,NvT));\n",
    "surf(xxv,[TTv,ZZv],Xmm=[-1,1],Ymm=[-1,1],axes=['T','z','\\\\Re\\\\Psi(T,z)']).display()\n",
    "xxv=resize(xxr.imag,(NvZ,NvT));\n",
    "surf(xxv,[TTv,ZZv],Xmm=[-1,1],Ymm=[-1,1],axes=['T','z','\\\\Im\\\\Psi(T,z)']).display()\n",
    "\n"
   ]
  },
  {
   "cell_type": "code",
   "execution_count": 25,
   "id": "seven-occasion",
   "metadata": {},
   "outputs": [
    {
     "data": {
      "application/vnd.jupyter.widget-view+json": {
       "model_id": "4140c48d81ef47f3853220fcfafefcb9",
       "version_major": 2,
       "version_minor": 0
      },
      "text/plain": [
       "Output()"
      ]
     },
     "metadata": {},
     "output_type": "display_data"
    },
    {
     "data": {
      "application/vnd.jupyter.widget-view+json": {
       "model_id": "638c81b25ae947ecb384c1ae8e152c5d",
       "version_major": 2,
       "version_minor": 0
      },
      "text/plain": [
       "Output()"
      ]
     },
     "metadata": {},
     "output_type": "display_data"
    },
    {
     "data": {
      "application/vnd.jupyter.widget-view+json": {
       "model_id": "defd48fc72da437b89ddfb9507f54dff",
       "version_major": 2,
       "version_minor": 0
      },
      "text/plain": [
       "Output()"
      ]
     },
     "metadata": {},
     "output_type": "display_data"
    }
   ],
   "source": [
    "from skimage.transform import resize\n",
    "xxr[0,:]=xr;\n",
    "xxv=resize(np.abs(xxr),(NvZ,NvT));\n",
    "surf(xxv,[TTv,ZZv],Xmm=[-1,1],Ymm=[-1,1],axes=['T','z','|\\\\Psi(T,z)|'],cmp=cmps.twilight_shifted).display()\n",
    "xxv=resize(xxr.real,(NvZ,NvT));\n",
    "surf(xxv,[TTv,ZZv],Xmm=[-1,1],Ymm=[-1,1],axes=['T','z','\\\\Re\\\\Psi(T,z)']).display()\n",
    "xxv=resize(xxr.imag,(NvZ,NvT))#,mode='symmetric');\n",
    "surf(xxv,[TTv,ZZv],Xmm=[-1,1],Ymm=[-1,1],axes=['T','z','\\\\Im\\\\Psi(T,z)']).display()\n",
    "\n"
   ]
  },
  {
   "cell_type": "code",
   "execution_count": 23,
   "id": "current-memorial",
   "metadata": {},
   "outputs": [
    {
     "data": {
      "application/vnd.jupyter.widget-view+json": {
       "model_id": "e09427da52fc4e509bc3e069be65261a",
       "version_major": 2,
       "version_minor": 0
      },
      "text/plain": [
       "Output()"
      ]
     },
     "metadata": {},
     "output_type": "display_data"
    },
    {
     "data": {
      "application/vnd.jupyter.widget-view+json": {
       "model_id": "fae60b74038142cfafd5301ce3b3403e",
       "version_major": 2,
       "version_minor": 0
      },
      "text/plain": [
       "Output()"
      ]
     },
     "metadata": {},
     "output_type": "display_data"
    },
    {
     "data": {
      "application/vnd.jupyter.widget-view+json": {
       "model_id": "16ae7d1be65b465388cae0e2460f7d6b",
       "version_major": 2,
       "version_minor": 0
      },
      "text/plain": [
       "Output()"
      ]
     },
     "metadata": {},
     "output_type": "display_data"
    }
   ],
   "source": [
    "xxv=resize(np.abs(xxr),(NvZ,NvT));\n",
    "surf(xxv,[TTv,ZZv],Xmm=[-1,1],Ymm=[-1,1],axes=['T','z','|\\\\Psi(T,z)|'],cmp=cmps.twilight_shifted).display()\n",
    "xxv=resize(xxr.real,(NvZ,NvT));\n",
    "surf(xxv,[TTv,ZZv],Xmm=[-1,1],Ymm=[-1,1],axes=['T','z','\\\\Re\\\\Psi(T,z)']).display()\n",
    "xxv=resize(xxr.imag,(NvZ,NvT));\n",
    "surf(xxv,[TTv,ZZv],Xmm=[-1,1],Ymm=[-1,1],axes=['T','z','\\\\Im\\\\Psi(T,z)']).display()\n",
    "\n"
   ]
  },
  {
   "cell_type": "code",
   "execution_count": null,
   "id": "controlled-personality",
   "metadata": {},
   "outputs": [],
   "source": [
    "surf(lambda T,Z: np.abs(brizerKM(T,Z,A)),[TTv,ZZv],axes=['T','z','|\\\\Psi(T,z)|'],cmp=cmps.twilight_shifted).display()\n",
    "surf(lambda T,Z: np.real(brizerKM(T,Z,A)),[TTv,ZZv],axes=['T','z','|\\\\Psi(T,z)|'],cmp=cmps.twilight_shifted).display()\n"
   ]
  },
  {
   "cell_type": "code",
   "execution_count": null,
   "id": "forty-parks",
   "metadata": {},
   "outputs": [],
   "source": [
    "from matplotlib.tri import Triangulation\n",
    "import numpy as np\n",
    "import k3d\n",
    "\n",
    "# this code is a part of matplotlib trisurf3d_demo\n",
    "n_radii = 8\n",
    "n_angles = 36\n",
    "\n",
    "radii = np.linspace(0.125, 1.0, n_radii, dtype=np.float32)\n",
    "angles = np.linspace(0, 2*np.pi, n_angles, endpoint=False, dtype=np.float32)[..., np.newaxis]\n",
    "\n",
    "x = np.append(np.float32(0), (radii*np.cos(angles)).flatten())\n",
    "y = np.append(np.float32(0), (radii*np.sin(angles)).flatten())\n",
    "\n",
    "z = 10*np.sin(-x*y)\n",
    "indices = Triangulation(x,y).triangles.astype(np.uint32)\n",
    "\n",
    "plot = k3d.plot()\n",
    "plt_mesh = k3d.mesh(np.vstack([x,y,z]).T, indices,\n",
    "                   color_map = k3d.colormaps.basic_color_maps.Jet,\n",
    "                   attribute=z,\n",
    "                   color_range = [-1.1,2.01]\n",
    "                   )\n",
    "plot += plt_mesh\n",
    "plot"
   ]
  },
  {
   "cell_type": "code",
   "execution_count": null,
   "id": "valued-seeker",
   "metadata": {},
   "outputs": [],
   "source": [
    "bounds=[-1, 1, -1, 1]"
   ]
  },
  {
   "cell_type": "code",
   "execution_count": null,
   "id": "incorporated-metabolism",
   "metadata": {},
   "outputs": [],
   "source": [
    "q=(radii*np.cos(angles));"
   ]
  },
  {
   "cell_type": "code",
   "execution_count": null,
   "id": "polyphonic-formula",
   "metadata": {},
   "outputs": [],
   "source": [
    "radii.shape"
   ]
  },
  {
   "cell_type": "code",
   "execution_count": null,
   "id": "organized-river",
   "metadata": {},
   "outputs": [],
   "source": [
    "angles.shape"
   ]
  },
  {
   "cell_type": "code",
   "execution_count": null,
   "id": "bottom-directory",
   "metadata": {},
   "outputs": [],
   "source": [
    "q.shape"
   ]
  },
  {
   "cell_type": "code",
   "execution_count": null,
   "id": "descending-genetics",
   "metadata": {},
   "outputs": [],
   "source": [
    "q=radii*radii.T"
   ]
  },
  {
   "cell_type": "code",
   "execution_count": null,
   "id": "fitting-traffic",
   "metadata": {},
   "outputs": [],
   "source": [
    "q=angles*angles.T"
   ]
  },
  {
   "cell_type": "code",
   "execution_count": null,
   "id": "worthy-authorization",
   "metadata": {},
   "outputs": [],
   "source": []
  }
 ],
 "metadata": {
  "kernelspec": {
   "display_name": "Python 3",
   "language": "python",
   "name": "python3"
  },
  "language_info": {
   "codemirror_mode": {
    "name": "ipython",
    "version": 3
   },
   "file_extension": ".py",
   "mimetype": "text/x-python",
   "name": "python",
   "nbconvert_exporter": "python",
   "pygments_lexer": "ipython3",
   "version": "3.7.9"
  }
 },
 "nbformat": 4,
 "nbformat_minor": 5
}
