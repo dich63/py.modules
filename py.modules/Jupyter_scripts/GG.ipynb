{
 "cells": [
  {
   "cell_type": "code",
   "execution_count": 1,
   "id": "infectious-webcam",
   "metadata": {},
   "outputs": [
    {
     "name": "stdout",
     "output_type": "stream",
     "text": [
      "pid= 6440\n",
      "context_wrapper=D:\\dich\\2019_02_20_04-49-14\\ipc\\py.modules\\NLS\\bin/ictx/ictxwrr.dll\n",
      "nls_pade_lib=D:\\dich\\2019_02_20_04-49-14\\ipc\\py.modules\\NLS\\bin/nls_pade.dll\n",
      "ssf_lib=D:\\dich\\2019_02_20_04-49-14\\ipc\\py.modules\\NLS\\bin/ssf.dll\n"
     ]
    },
    {
     "data": {
      "application/vnd.jupyter.widget-view+json": {
       "model_id": "e2ee75b8b02249189c84d5dc56e248a1",
       "version_major": 2,
       "version_minor": 0
      },
      "text/plain": [
       "Output()"
      ]
     },
     "metadata": {},
     "output_type": "display_data"
    }
   ],
   "source": [
    "from NLS.brizers import *\n",
    "from NLS.nls_adapter import *\n",
    "import cmath\n",
    "import numpy as np\n",
    "from plots.k3dsurf import surf,cmps\n",
    "'''\n",
    "from skimage.transform import resize\n",
    "from matplotlib import pyplot as plt\n",
    "from matplotlib.animation import FuncAnimation\n",
    "'''\n",
    "%matplotlib notebook\n",
    "A=1\n",
    "[pT,pZ]=brizerKM_periods(A);\n",
    "LT=5*abs(pT);\n",
    "LZ=8/11*2*2.5*abs(pZ);\n",
    "NvT=200;\n",
    "NvZ=300;\n",
    "tLv=np.linspace(-LT,LT,NvT);\n",
    "zLv=np.linspace(-LZ*0,LZ,NvZ);\n",
    "[TTv,ZZv]=np.meshgrid(tLv,zLv);\n",
    "#figure\n",
    "#tic\n",
    "\n",
    "FFv=brizerKM(TTv,ZZv,A);\n",
    "surf(lambda T,Z: 1*np.abs(brizerKM(T,Z,A)),[TTv,ZZv],Xmm=[-1,1],Ymm=[-1,1],axes=['T','z','|\\\\Psi(T,z)|'],cmp=cmps.twilight_shifted).display()\n"
   ]
  },
  {
   "cell_type": "code",
   "execution_count": null,
   "id": "increased-neighborhood",
   "metadata": {},
   "outputs": [],
   "source": []
  }
 ],
 "metadata": {
  "kernelspec": {
   "display_name": "Python 3",
   "language": "python",
   "name": "python3"
  },
  "language_info": {
   "codemirror_mode": {
    "name": "ipython",
    "version": 3
   },
   "file_extension": ".py",
   "mimetype": "text/x-python",
   "name": "python",
   "nbconvert_exporter": "python",
   "pygments_lexer": "ipython3",
   "version": "3.9.1"
  }
 },
 "nbformat": 4,
 "nbformat_minor": 5
}
