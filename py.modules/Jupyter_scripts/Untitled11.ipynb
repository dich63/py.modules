{
 "cells": [
  {
   "cell_type": "code",
   "execution_count": null,
   "id": "worldwide-progress",
   "metadata": {},
   "outputs": [],
   "source": [
    "import cmath\n",
    "import numpy as np\n",
    "from skimage.transform import resize\n",
    "import k3d\n",
    "\n",
    "def Graph3D(Farray,Xarray=np.array([np.float32(x/10.0) for x in range (-10,10)]),Yarray=np.array([np.float32(y/10.0) for y in range (-10,10)]),axes=['T', 'z', 'Amp'], color_map=k3d.matplotlib_color_maps.Plasma ):\n",
    "    plot = k3d.plot(axes=axes,grid_auto_fit=True);\n",
    "    xmin, xmax,= np.min(Xarray.flatten()),np.max(Xarray.flatten()) ;\n",
    "    ymin, ymax,= np.min(Yarray.flatten()),np.max(Yarray.flatten()) ;    \n",
    "    cm = color_map; \n",
    "    z=Farray;\n",
    "    #z=10*Farray/np.max(Farray.flatten());\n",
    "    z=z.real.astype(np.float32);\n",
    "    plt_surface = k3d.surface(z, color_map=cm, attribute=z, color_range=[np.min(z.flatten()),np.max(z.flatten())], xmin=xmin, xmax=xmax, ymin=ymin, ymax=ymax)\n",
    "    #plt_surface.grid=(-40, 40,ymin,ymax)\n",
    "    #plot.grid=(-40, 40,ymin,ymax,np.min(z), np.max(z));\n",
    "    scale_ratio=np.abs(xmax-xmin)/np.abs(ymax-ymin);\n",
    "    if scale_ratio<1:\n",
    "        scale_ratio=1/scale_ratio;\n",
    "    '''    \n",
    "    plt_surface.model_matrix=[[1.,  0.,  0.,  0.],\n",
    "            [ 0., 1.0*scale_ratio,  0.,  0.],\n",
    "            [ 0.,  0.,  0.1,  0.],\n",
    "             [ 0.,  0.,  0.,  1]];\n",
    "    '''\n",
    "    plot += plt_surface;\n",
    "    plot.render();\n",
    "    #plot.display();\n",
    "    return plot;"
   ]
  },
  {
   "cell_type": "code",
   "execution_count": null,
   "id": "intelligent-vegetarian",
   "metadata": {},
   "outputs": [],
   "source": [
    "Graph3D(Z*Z)"
   ]
  },
  {
   "cell_type": "code",
   "execution_count": null,
   "id": "pretty-superintendent",
   "metadata": {},
   "outputs": [],
   "source": [
    "LT=5\n",
    "LZ=5\n",
    "NvT=200;\n",
    "NvZ=300;\n",
    "tLv=np.linspace(-LT,LT,NvT);\n",
    "zLv=np.linspace(-LZ*0,LZ,NvZ);\n",
    "[TTv,ZZv]=np.meshgrid(tLv,zLv);\n",
    "\n"
   ]
  },
  {
   "cell_type": "code",
   "execution_count": null,
   "id": "female-worcester",
   "metadata": {},
   "outputs": [],
   "source": [
    "Graph3D(ZZv,ZZv,TTv)"
   ]
  },
  {
   "cell_type": "code",
   "execution_count": null,
   "id": "advance-pendant",
   "metadata": {},
   "outputs": [],
   "source": [
    "Z=np.array([np.float32(x/10.0) for x in range (-10,10)])"
   ]
  },
  {
   "cell_type": "code",
   "execution_count": null,
   "id": "behavioral-sugar",
   "metadata": {},
   "outputs": [],
   "source": [
    "Z.shape\n"
   ]
  },
  {
   "cell_type": "code",
   "execution_count": null,
   "id": "wireless-moore",
   "metadata": {},
   "outputs": [],
   "source": [
    "y=np.array([np.float32(x/10.0) for x in range (-10,10)])"
   ]
  },
  {
   "cell_type": "code",
   "execution_count": null,
   "id": "absent-snapshot",
   "metadata": {},
   "outputs": [],
   "source": [
    "y"
   ]
  },
  {
   "cell_type": "code",
   "execution_count": null,
   "id": "tight-asian",
   "metadata": {},
   "outputs": [],
   "source": [
    "q=ZZv**3"
   ]
  },
  {
   "cell_type": "code",
   "execution_count": null,
   "id": "optical-worker",
   "metadata": {},
   "outputs": [],
   "source": [
    "q.shape,ZZv.shape"
   ]
  },
  {
   "cell_type": "code",
   "execution_count": 18,
   "id": "surprising-plane",
   "metadata": {},
   "outputs": [
    {
     "data": {
      "application/vnd.jupyter.widget-view+json": {
       "model_id": "83cf763b776249d1b2eca34ea2a0aea1",
       "version_major": 2,
       "version_minor": 0
      },
      "text/plain": [
       "Plot(antialias=3, axes=['X', 'Y', 'F'], axes_helper=1.0, background_color=16777215, camera=[2, -3, 0.2, 0.0, 0…"
      ]
     },
     "metadata": {},
     "output_type": "display_data"
    },
    {
     "data": {
      "text/plain": [
       "<Figure size 576x360 with 0 Axes>"
      ]
     },
     "metadata": {},
     "output_type": "display_data"
    }
   ],
   "source": [
    "import numpy as np\n",
    "from plots.k3dsurf import surf\n",
    "\n",
    "\n",
    "surf()\n",
    "\n",
    "surf(lambda x,y : np.sin(x*y))\n",
    "\n",
    "X,Y=np.meshgrid(np.linspace(-1.,1.,200),np.linspace(-2.,2.,300))\n",
    "F=X*X+Y*Y\n",
    "surf(F,(X,Y))\n",
    "\n"
   ]
  },
  {
   "cell_type": "code",
   "execution_count": null,
   "id": "impaired-acoustic",
   "metadata": {},
   "outputs": [],
   "source": [
    "surf(lambda x,y : x*y)"
   ]
  },
  {
   "cell_type": "code",
   "execution_count": 16,
   "id": "handled-terrorist",
   "metadata": {},
   "outputs": [
    {
     "data": {
      "application/vnd.jupyter.widget-view+json": {
       "model_id": "bf05c184763948b99d1efed502b2d971",
       "version_major": 2,
       "version_minor": 0
      },
      "text/plain": [
       "Plot(antialias=3, axes=['X', 'Y', 'F'], axes_helper=1.0, background_color=16777215, camera=[2, -3, 0.2, 0.0, 0…"
      ]
     },
     "metadata": {},
     "output_type": "display_data"
    }
   ],
   "source": [
    "p"
   ]
  },
  {
   "cell_type": "code",
   "execution_count": 14,
   "id": "modular-courtesy",
   "metadata": {},
   "outputs": [
    {
     "data": {
      "application/vnd.jupyter.widget-view+json": {
       "model_id": "825f95c9e2ec45e384a02e6149cdbb68",
       "version_major": 2,
       "version_minor": 0
      },
      "text/plain": [
       "Plot(antialias=3, axes=['X', 'Y', 'F'], axes_helper=1.0, background_color=16777215, camera=[2, -3, 0.2, 0.0, 0…"
      ]
     },
     "metadata": {},
     "output_type": "display_data"
    }
   ],
   "source": [
    "surf(lambda x,y : np.sin(x*y))"
   ]
  },
  {
   "cell_type": "code",
   "execution_count": 19,
   "id": "increased-stylus",
   "metadata": {},
   "outputs": [],
   "source": [
    "p=surf(lambda x,y : np.sin(x*y))"
   ]
  },
  {
   "cell_type": "code",
   "execution_count": 22,
   "id": "powered-commander",
   "metadata": {},
   "outputs": [
    {
     "data": {
      "text/plain": [
       "k3d.plot.Plot"
      ]
     },
     "execution_count": 22,
     "metadata": {},
     "output_type": "execute_result"
    }
   ],
   "source": [
    "type(p)\n"
   ]
  },
  {
   "cell_type": "code",
   "execution_count": null,
   "id": "motivated-percentage",
   "metadata": {},
   "outputs": [],
   "source": []
  }
 ],
 "metadata": {
  "kernelspec": {
   "display_name": "Python 3",
   "language": "python",
   "name": "python3"
  },
  "language_info": {
   "codemirror_mode": {
    "name": "ipython",
    "version": 3
   },
   "file_extension": ".py",
   "mimetype": "text/x-python",
   "name": "python",
   "nbconvert_exporter": "python",
   "pygments_lexer": "ipython3",
   "version": "3.7.9"
  }
 },
 "nbformat": 4,
 "nbformat_minor": 5
}
