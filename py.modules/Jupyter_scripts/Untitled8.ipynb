{
 "cells": [
  {
   "cell_type": "code",
   "execution_count": 1,
   "id": "pointed-pixel",
   "metadata": {},
   "outputs": [
    {
     "name": "stdout",
     "output_type": "stream",
     "text": [
      "----------------------------------------------------------------------\n",
      "GNU Octave Version: 5.2.0 (hg id: eb46a9f47164)\n",
      "GNU Octave License: GNU General Public License\n",
      "Operating System: MINGW32_NT-6.2 Windows 6.2  x86_64\n",
      "----------------------------------------------------------------------\n",
      "Package Name         | Version | Installation directory\n",
      "---------------------+---------+-----------------------\n",
      "              audio  |   2.0.0 | ...\\mingw64\\share\\octave\\packages\\audio-2.0.0\n",
      "     communications  |   1.2.2 | ...\\share\\octave\\packages\\communications-1.2.2\n",
      "            control  |   3.2.0 | ...\\mingw64\\share\\octave\\packages\\control-3.2.0\n",
      "     data-smoothing  |   1.3.0 | ...\\share\\octave\\packages\\data-smoothing-1.3.0\n",
      "           database  |   2.4.4 | ...\\share\\octave\\packages\\database-2.4.4\n",
      "          dataframe  |   1.2.0 | ...\\share\\octave\\packages\\dataframe-1.2.0\n",
      "              dicom  |   0.2.2 | ...\\mingw64\\share\\octave\\packages\\dicom-0.2.2\n",
      "          financial  |   0.5.3 | ...\\share\\octave\\packages\\financial-0.5.3\n",
      "               fits  |   1.0.7 | ...\\mingw64\\share\\octave\\packages\\fits-1.0.7\n",
      "fuzzy-logic-toolkit  |   0.4.5 | ...\\octave\\packages\\fuzzy-logic-toolkit-0.4.5\n",
      "                 ga  |  0.10.1 | ...\\mingw64\\share\\octave\\packages\\ga-0.10.1\n",
      "            general  |   2.1.0 | ...\\mingw64\\share\\octave\\packages\\general-2.1.0\n",
      "      generate_html  |   0.3.1 | ...\\share\\octave\\packages\\generate_html-0.3.1\n",
      "           geometry  |   3.0.0 | ...\\share\\octave\\packages\\geometry-3.0.0\n",
      "                gsl  |   2.1.1 | ...\\mingw64\\share\\octave\\packages\\gsl-2.1.1\n",
      "              image  |  2.10.0 | ...\\mingw64\\share\\octave\\packages\\image-2.10.0\n",
      " instrument-control  |   0.4.0 | ...\\octave\\packages\\instrument-control-0.4.0\n",
      "           interval  |   3.2.0 | ...\\share\\octave\\packages\\interval-3.2.0\n",
      "                 io  |  2.4.13 | ...\\mingw64\\share\\octave\\packages\\io-2.4.13\n",
      "     linear-algebra  |   2.2.3 | ...\\share\\octave\\packages\\linear-algebra-2.2.3\n",
      "               lssa  |   0.1.3 | ...\\mingw64\\share\\octave\\packages\\lssa-0.1.3\n",
      "              ltfat  |   2.3.1 | ...\\mingw64\\share\\octave\\packages\\ltfat-2.3.1\n",
      "            mapping  |   1.2.1 | ...\\mingw64\\share\\octave\\packages\\mapping-1.2.1\n",
      "      miscellaneous  |   1.3.0 | ...\\share\\octave\\packages\\miscellaneous-1.3.0\n",
      "                nan  |   3.4.5 | ...\\mingw64\\share\\octave\\packages\\nan-3.4.5\n",
      "             netcdf  |  1.0.12 | ...\\mingw64\\share\\octave\\packages\\netcdf-1.0.12\n",
      "              nurbs  |  1.3.13 | ...\\mingw64\\share\\octave\\packages\\nurbs-1.3.13\n",
      "                ocs  |   0.1.5 | ...\\mingw64\\share\\octave\\packages\\ocs-0.1.5\n",
      "             odepkg  |   0.8.5 | ...\\mingw64\\share\\octave\\packages\\odepkg-0.8.5\n",
      "              optim  |   1.6.0 | ...\\mingw64\\share\\octave\\packages\\optim-1.6.0\n",
      "        optiminterp  |   0.3.5 | ...\\share\\octave\\packages\\optiminterp-0.3.5\n",
      "         quaternion  |   2.4.0 | ...\\share\\octave\\packages\\quaternion-2.4.0\n",
      "           queueing  |   1.2.6 | ...\\share\\octave\\packages\\queueing-1.2.6\n",
      "             signal  |   1.4.1 | ...\\mingw64\\share\\octave\\packages\\signal-1.4.1\n",
      "            sockets  |   1.2.0 | ...\\mingw64\\share\\octave\\packages\\sockets-1.2.0\n",
      "          sparsersb  |   1.0.6 | ...\\share\\octave\\packages\\sparsersb-1.0.6\n",
      "            specfun  |   1.1.0 | ...\\mingw64\\share\\octave\\packages\\specfun-1.1.0\n",
      "            splines  |   1.3.3 | ...\\mingw64\\share\\octave\\packages\\splines-1.3.3\n",
      "         statistics  |   1.4.1 | ...\\share\\octave\\packages\\statistics-1.4.1\n",
      "                stk  |   2.6.1 | ...\\mingw64\\share\\octave\\packages\\stk-2.6.1\n",
      "            strings  |   1.2.0 | ...\\mingw64\\share\\octave\\packages\\strings-1.2.0\n",
      "             struct  |  1.0.16 | ...\\mingw64\\share\\octave\\packages\\struct-1.0.16\n",
      "           symbolic  |   2.9.0 | ...\\share\\octave\\packages\\symbolic-2.9.0\n",
      "             tisean  |   0.2.3 | ...\\mingw64\\share\\octave\\packages\\tisean-0.2.3\n",
      "                tsa  |   4.6.2 | ...\\mingw64\\share\\octave\\packages\\tsa-4.6.2\n",
      "              video  |   1.2.4 | ...\\mingw64\\share\\octave\\packages\\video-1.2.4\n",
      "            windows  |   1.4.0 | ...\\mingw64\\share\\octave\\packages\\windows-1.4.0\n",
      "             zeromq  |   1.5.0 | ...\\mingw64\\share\\octave\\packages\\zeromq-1.5.0\n"
     ]
    }
   ],
   "source": [
    "ver"
   ]
  },
  {
   "cell_type": "code",
   "execution_count": null,
   "id": "packed-jesus",
   "metadata": {},
   "outputs": [],
   "source": []
  }
 ],
 "metadata": {
  "kernelspec": {
   "display_name": "Octave",
   "language": "octave",
   "name": "octave"
  },
  "language_info": {
   "file_extension": ".m",
   "help_links": [
    {
     "text": "GNU Octave",
     "url": "https://www.gnu.org/software/octave/support.html"
    },
    {
     "text": "Octave Kernel",
     "url": "https://github.com/Calysto/octave_kernel"
    },
    {
     "text": "MetaKernel Magics",
     "url": "https://metakernel.readthedocs.io/en/latest/source/README.html"
    }
   ],
   "mimetype": "text/x-octave",
   "name": "octave",
   "version": "5.2.0"
  }
 },
 "nbformat": 4,
 "nbformat_minor": 5
}
