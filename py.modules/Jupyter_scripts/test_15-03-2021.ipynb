{
 "cells": [
  {
   "cell_type": "markdown",
   "id": "therapeutic-greenhouse",
   "metadata": {},
   "source": [
    "$$\\newcommand{\\braket}[1]{ \\left| { #1 } \\right\\rangle }$$\n",
    "$$\n",
    "\\boxed{\n",
    "\\braket{\\tilde J(t) }  \\equiv \\braket{J(t) }  + \\braket{\\phi(t_0) } \\delta (t - {t_0})  \\Rightarrow \n",
    "  \\braket{\\phi(t) }  = \\int\\limits_{ - \\infty }^{ + \\infty } {d{t_0}\\hat G(t-t_0)} \\braket{\\tilde J(t_0) }  \n",
    "} \n",
    "$$\n",
    "aa\n",
    "$$\n",
    "\\frac{\\partial }{{\\partial z }}{\\Psi _n} = {\\Psi _{n + 1}} + {\\Psi _{n - 1}} - 2{\\Psi _n}\n",
    "$$\n",
    "Это коммент\n",
    "$$\n",
    " \\frac{d}{{dt}}\\braket{\\phi }  = \\hat A \\braket{\\phi } \\Rightarrow \\braket{\\phi(t) } = \\exp( (t-t_0) \\hat A) \\braket{\\phi(t_0) }\n",
    "$$\n",
    "\n",
    "$$\n",
    "\\frac{d}{{dt}} \\braket{\\phi }   = \\hat A \\braket{\\phi }  + \\braket{J(t) } \\label{qq}\n",
    "$$\n",
    "\n",
    "$$\n",
    " \\hat G(\\tau ) = \\theta (\\tau) \\exp (\\tau \\hat A) \n",
    "\\Rightarrow \\braket{\\phi (t) }  = \n",
    "\\exp( (t-t_0) \\hat A)  \\braket{\\phi(t_0) } \n",
    "+\\int\\limits_{ - \\infty }^{ + \\infty } {d{t_0}\\hat G(t-t_0)}  \\braket{J(t_0) }  \n",
    "$$\n",
    "\n",
    "$$\n",
    " C(z,\\bar z )   \\frac{d}{{dt}}p(z,\\bar z ) \n",
    "=   \\sigma  \\frac{1}{2} {\\partial_z }{\\partial_{\\bar z }}p(z,\\bar z ) \n",
    "$$"
   ]
  },
  {
   "cell_type": "code",
   "execution_count": 1,
   "id": "subject-tennis",
   "metadata": {
    "scrolled": false
   },
   "outputs": [
    {
     "ename": "ModuleNotFoundError",
     "evalue": "No module named 'NLS'",
     "output_type": "error",
     "traceback": [
      "\u001b[1;31m---------------------------------------------------------------------------\u001b[0m",
      "\u001b[1;31mModuleNotFoundError\u001b[0m                       Traceback (most recent call last)",
      "\u001b[1;32m<ipython-input-1-93f39ae5f8b5>\u001b[0m in \u001b[0;36m<module>\u001b[1;34m\u001b[0m\n\u001b[0;32m      1\u001b[0m \u001b[1;31m# -*- coding: utf-8 -*-\u001b[0m\u001b[1;33m\u001b[0m\u001b[1;33m\u001b[0m\u001b[1;33m\u001b[0m\u001b[0m\n\u001b[0;32m      2\u001b[0m \u001b[1;33m\u001b[0m\u001b[0m\n\u001b[1;32m----> 3\u001b[1;33m \u001b[1;32mfrom\u001b[0m \u001b[0mNLS\u001b[0m\u001b[1;33m.\u001b[0m\u001b[0mbrizers\u001b[0m \u001b[1;32mimport\u001b[0m \u001b[1;33m*\u001b[0m\u001b[1;33m\u001b[0m\u001b[1;33m\u001b[0m\u001b[0m\n\u001b[0m\u001b[0;32m      4\u001b[0m \u001b[1;32mfrom\u001b[0m \u001b[0mNLS\u001b[0m\u001b[1;33m.\u001b[0m\u001b[0mnls_adapter\u001b[0m \u001b[1;32mimport\u001b[0m \u001b[1;33m*\u001b[0m\u001b[1;33m\u001b[0m\u001b[1;33m\u001b[0m\u001b[0m\n\u001b[0;32m      5\u001b[0m \u001b[1;33m\u001b[0m\u001b[0m\n",
      "\u001b[1;31mModuleNotFoundError\u001b[0m: No module named 'NLS'"
     ]
    }
   ],
   "source": [
    "# -*- coding: utf-8 -*-\n",
    "\n",
    "from NLS.brizers import *\n",
    "from NLS.nls_adapter import *\n",
    "\n",
    "from plots.asyn_fig import asyn_figure,sprintf\n",
    "from plots.k3dsurf import surf,cmps,resize\n",
    "\n",
    "%matplotlib notebook\n",
    "\n",
    "\n",
    "\n",
    "\n",
    "\n",
    "A=1-1/8\n",
    "A=1\n",
    "#A=0.6\n",
    "N=16*1024\n",
    "NZ=1000;\n",
    "NZ=300;\n",
    "\n",
    "mm=256+256;\n",
    "mm=2;\n",
    "mm=32\n",
    "mm=2\n",
    "\n",
    "omagnus=1\n",
    "#mm=256;\n",
    "#omagnus=0\n",
    "flags=-1;\n",
    "\n",
    "flags=0;\n",
    "alpha=0*1e-8;\n",
    "\n",
    "sname='nls-exp-dec';\n",
    "sname='nls';\n",
    "#sname=\"nls-magnus\"\n",
    "#sname='ssf';omagnus=0\n",
    "\n",
    "\n",
    "caption=sprintf(\"solver=%s $ord_{magnus}=%d$,flags=%d \",sname.upper(),omagnus,flags)\n",
    "\n",
    "\n",
    "[pT,pZ]=brizerKM_periods(A);\n",
    "LT=5*abs(pT);\n",
    "LZ=8/11*2*2.5*abs(pZ);\n",
    "NvT=200;\n",
    "NvZ=300;\n",
    "tLv=np.linspace(-LT,LT,NvT);\n",
    "zLv=np.linspace(-LZ*0,LZ,NvZ);\n",
    "[TTv,ZZv]=np.meshgrid(tLv,zLv);\n",
    "#figure\n",
    "#tic\n",
    "\n",
    "\n",
    "surf(lambda T,Z: np.abs(brizerKM(T,Z,A)),[TTv,ZZv],Xmm=[-1,1],Ymm=[-1,1],axes=['T','z','|\\\\Psi(T,z)|'],cmp=cmps.twilight_shifted).display()\n",
    "\n",
    "FFv=brizerKM(TTv,ZZv,A);\n",
    "\n",
    "surf(FFv.real,[TTv,ZZv],Xmm=[-1,1],Ymm=[-1,1],axes=['T','z','\\\\Re\\\\Psi(T,z)']).display()\n",
    "surf(FFv.imag,[TTv,ZZv],Xmm=[-1,1],Ymm=[-1,1],axes=['T','z','\\\\Im\\\\Psi(T,z)']).display()\n",
    "\n",
    "\n",
    "\n",
    "\n",
    "tt=np.linspace(-LT,LT,N+1);\n",
    "tt=tt[0:N]\n",
    "g=1;\n",
    "[nls,dzu,h]=nls_rescale_to(tt,sname,g);\n",
    "hz=LZ/NZ; \n",
    "dz=hz* dzu/mm\n",
    "\n",
    "nls.reset(dt=dz,nm=[4,4],omagnus=omagnus,alpha=alpha,w=1/3,flags=flags);\n",
    "\n",
    "\n",
    "\n",
    "\n",
    "x0=brizerKM(tt,0,A);\n",
    "\n",
    "nr=np.linalg.norm(x0)*(np.max(tt)-np.min(tt))/N;\n",
    "\n",
    "z=np.array([0.0,nr,-np.inf]);\n",
    "\n",
    "xxr=np.zeros((NZ,N), dtype=complex);\n",
    "xxe=np.zeros((NZ,N), dtype=complex);\n",
    "\n",
    "\n",
    "\n",
    "\n",
    "\n",
    "def callback(af,i,A,tt,nls,z,hz,mm):           \n",
    "    \n",
    "    global caption,xxr,xxe\n",
    "    \n",
    "    \n",
    "    xe=brizerKM(tt,z[0],A);\n",
    "    if i==0:\n",
    "        nls.x=xr=xe;\n",
    "    else:\n",
    "        xr=nls(rep=int(mm),pp=1);\n",
    "        \n",
    "    tcpu,niter=nls.elapsed;\n",
    "    \n",
    "    xxr[i,:]=xr;\n",
    "    xxe[i,:]=xe;\n",
    "    \n",
    "    z[0]+=hz;\n",
    "    \n",
    "    \n",
    "    \n",
    "    # ====   Grapics ====\n",
    "    \n",
    "    \n",
    "    axr=np.abs(xr);\n",
    "    axe=np.abs(xe);\n",
    "    \n",
    "    af[1](1,(tt,axr),color='#77f',legend='$|\\\\Psi_{num}|$',linewidth=1.5)\n",
    "    af[1](2,(tt,axe),color='#00f',legend='$|\\\\Psi_{an}|$',linewidth=0.5)\n",
    "    \n",
    "    af[1](3,(tt,np.real(xr)),color='#3f3',legend='$Re\\\\Psi_{num}$',linewidth=1.5)\n",
    "    af[1](4,(tt,np.real(xe)),color='#070',legend='$Re\\\\Psi_{an}$',linewidth=0.5)\n",
    "    \n",
    "    af[1].set_title(\"[%d] %s elapsed: $\\\\tau_{cpu}$=%3.3f sec iter=%d\",i+1,caption,tcpu,niter)\n",
    "    \n",
    "    nr=z[1];\n",
    "    \n",
    "    err_r=(np.abs(axr-axe)/nr)**2;\n",
    "    err_f=(np.abs(xr-xe)/nr)**2;\n",
    "    \n",
    "    af[2](1,(tt,err_r),color='#33f',legend='$\\\\delta\\\\rho$',linewidth=1.5)\n",
    "    af[2](2,(tt,err_f),color='#3f3',legend='$\\\\delta\\\\Psi$',linewidth=1.5)\n",
    "    \n",
    "    em=10*np.log10(np.max(err_f));\n",
    "    if z[2]<em:\n",
    "        z[2]=em;\n",
    "    \n",
    "    af[2].set_title(\"$\\\\epsilon=%3.2f [\\\\epsilon_{max}:%3.2f][dB]$  \",em,z[2]);\n",
    "    \n",
    "    af[2].set_ylim((1e-12,100))\n",
    "    \n",
    "\n",
    "def oncomplete(xxr,NvZ,NvT,TTv,ZZv):\n",
    "    \n",
    "    global caption\n",
    "    \n",
    "    print(caption)\n",
    "    \n",
    "    xxv=resize(np.abs(xxr),(NvZ,NvT));\n",
    "    surf(xxv,[TTv,ZZv],Xmm=[-1,1],Ymm=[-1,1],axes=['T','z','|\\\\Psi(T,z)|'],title=caption,cmp=cmps.twilight_shifted).display()\n",
    "    \n",
    "    xxv=resize(xxr.real,(NvZ,NvT));\n",
    "    surf(xxv,[TTv,ZZv],Xmm=[-1,1],Ymm=[-1,1],axes=['T','z','\\\\Re\\\\Psi(T,z)'],title=caption).display()\n",
    "    \n",
    "    xxv=resize(xxr.imag,(NvZ,NvT));\n",
    "    surf(xxv,[TTv,ZZv],Xmm=[-1,1],Ymm=[-1,1],axes=['T','z','\\\\Im\\\\Psi(T,z)'],title=caption).display()\n",
    "    \n",
    "\n",
    "\n",
    "af=asyn_figure(figsize=(10,8))\n",
    "af[1].reset(211);\n",
    "af[2].reset(212, yscale='log');\n",
    "print('Start....')\n",
    "\n",
    "af(NZ,lambda af,i: callback(af,i,A,tt,nls,z,hz,mm)).display();\n",
    "#af(NZ,lambda af,i: callback(af,i,A,tt,nls,z,hz,mm),lambda : oncomplete(xxr,NvZ,NvT,TTv,ZZv) ).display();\n",
    "\n",
    "    \n"
   ]
  },
  {
   "cell_type": "code",
   "execution_count": null,
   "id": "advance-roller",
   "metadata": {
    "scrolled": false
   },
   "outputs": [],
   "source": [
    "oncomplete(xxr,NvZ,NvT,TTv,ZZv)"
   ]
  },
  {
   "cell_type": "code",
   "execution_count": null,
   "id": "vanilla-former",
   "metadata": {},
   "outputs": [],
   "source": [
    "oncomplete(xxr,NvZ,NvT,TTv,ZZv)"
   ]
  },
  {
   "cell_type": "code",
   "execution_count": null,
   "id": "treated-exception",
   "metadata": {},
   "outputs": [],
   "source": [
    "fs=asyn_figure(figsize=(10,8))\n",
    "fs[1].reset(yscale='log');\n",
    "xxe.shape,xxr.shape\n",
    "dmi=np.abs(xxe-xxr).min(0);"
   ]
  },
  {
   "cell_type": "code",
   "execution_count": null,
   "id": "spread-pocket",
   "metadata": {},
   "outputs": [],
   "source": [
    "efxx=np.abs(xxe-xxr)\n",
    "errmin=efxx.min(1);\n",
    "errmax=efxx.max(1);\n",
    "drxx=np.abs(np.abs(xxe)-np.abs(xxr))\n",
    "rerrmin=drxx.min(1);\n",
    "rerrmax=drxx.max(1);\n",
    "\n",
    "zz=hz*np.arange(NZ);\n",
    "zmin,zmax=zz.min,zz.max\n",
    "errmin.shape,errmax.shape,zz.shape\n"
   ]
  },
  {
   "cell_type": "code",
   "execution_count": null,
   "id": "valid-monday",
   "metadata": {},
   "outputs": [],
   "source": [
    "xxe.shape"
   ]
  },
  {
   "cell_type": "code",
   "execution_count": null,
   "id": "young-david",
   "metadata": {},
   "outputs": [],
   "source": [
    "\n",
    "#fs[1].ax.clear()\n",
    "fs[1].ax.fill_between(zz,errmin, errmax,facecolor='#007',label='err')\n",
    "fs[1].ax.fill_between(zz,rerrmin, rerrmax,facecolor='#700',label='rer')\n",
    "fs[1].ax.legend(loc='upper left')\n",
    "zmin,zmax=zz.min(),zz.max()\n",
    "fs[1].ax.set_xlim(zmin,zmax)\n",
    "fs[1].ax.set_ylim(1e-10,1)\n",
    "fs[1].ax.grid(True,'both')"
   ]
  },
  {
   "cell_type": "code",
   "execution_count": null,
   "id": "played-modeling",
   "metadata": {},
   "outputs": [],
   "source": [
    "zmax"
   ]
  },
  {
   "cell_type": "code",
   "execution_count": 6,
   "id": "atlantic-canvas",
   "metadata": {},
   "outputs": [
    {
     "data": {
      "text/plain": [
       "(135990.9906674534, 1830.8850066050982)"
      ]
     },
     "execution_count": 6,
     "metadata": {},
     "output_type": "execute_result"
    }
   ],
   "source": [
    "\n",
    "dzu,hz* dzu/mm"
   ]
  },
  {
   "cell_type": "code",
   "execution_count": 4,
   "id": "98bcb13e",
   "metadata": {},
   "outputs": [],
   "source": [
    "dz=hz* dzu/mm"
   ]
  },
  {
   "cell_type": "code",
   "execution_count": 3,
   "id": "6803b076",
   "metadata": {},
   "outputs": [
    {
     "ename": "ModuleNotFoundError",
     "evalue": "No module named 'NLS'",
     "output_type": "error",
     "traceback": [
      "\u001b[1;31m---------------------------------------------------------------------------\u001b[0m",
      "\u001b[1;31mModuleNotFoundError\u001b[0m                       Traceback (most recent call last)",
      "\u001b[1;32m<ipython-input-3-66c084fcf2bd>\u001b[0m in \u001b[0;36m<module>\u001b[1;34m\u001b[0m\n\u001b[1;32m----> 1\u001b[1;33m \u001b[1;32mfrom\u001b[0m \u001b[0mNLS\u001b[0m\u001b[1;33m.\u001b[0m\u001b[0mbrizers\u001b[0m \u001b[1;32mimport\u001b[0m \u001b[1;33m*\u001b[0m\u001b[1;33m\u001b[0m\u001b[1;33m\u001b[0m\u001b[0m\n\u001b[0m",
      "\u001b[1;31mModuleNotFoundError\u001b[0m: No module named 'NLS'"
     ]
    }
   ],
   "source": [
    "from NLS.brizers import *"
   ]
  },
  {
   "cell_type": "code",
   "execution_count": 2,
   "id": "cfd88053",
   "metadata": {},
   "outputs": [
    {
     "data": {
      "text/plain": [
       "'V:\\\\ipc\\\\py.modules\\\\Jupyter_scripts'"
      ]
     },
     "execution_count": 2,
     "metadata": {},
     "output_type": "execute_result"
    }
   ],
   "source": [
    "import os \n",
    "os.getcwd()"
   ]
  },
  {
   "cell_type": "code",
   "execution_count": null,
   "id": "ff0cefe2",
   "metadata": {},
   "outputs": [],
   "source": []
  }
 ],
 "metadata": {
  "kernelspec": {
   "display_name": "Python 3",
   "language": "python",
   "name": "python3"
  },
  "language_info": {
   "codemirror_mode": {
    "name": "ipython",
    "version": 3
   },
   "file_extension": ".py",
   "mimetype": "text/x-python",
   "name": "python",
   "nbconvert_exporter": "python",
   "pygments_lexer": "ipython3",
   "version": "3.7.9"
  }
 },
 "nbformat": 4,
 "nbformat_minor": 5
}
