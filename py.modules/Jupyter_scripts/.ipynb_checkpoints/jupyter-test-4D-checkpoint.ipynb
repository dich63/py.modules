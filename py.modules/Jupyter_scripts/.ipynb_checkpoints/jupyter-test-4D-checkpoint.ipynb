{
 "cells": [
  {
   "cell_type": "code",
   "execution_count": 2,
   "id": "86c32378",
   "metadata": {},
   "outputs": [
    {
     "name": "stdout",
     "output_type": "stream",
     "text": [
      "Current memory usage is 0.001 GB; Peak was 0.001 GB\n",
      "tensor_spline_4D init: 0.0246812 sec\n",
      "Current memory usage is 0.005 GB; Peak was 0.011 GB\n",
      "tensor_spline_4D  [pass 1] make  : 4.16396 sec\n",
      "Current memory usage is 0.001 GB; Peak was 0.003 GB\n",
      "cache_count= 169\n",
      "tensor_spline_4D [pass 2] make: 0.983556 sec\n",
      "cache_count= 169\n",
      "Current memory usage is 0.0 GB; Peak was 0.001 GB\n"
     ]
    }
   ],
   "source": [
    "# -*- coding: utf-8 -*-\n",
    "\n",
    "from numpy import *\n",
    "from utils import *\n",
    "\n",
    "import numpy as np\n",
    "\n",
    "\n",
    "from tensor.spline4D import *\n",
    "\n",
    "import tracemalloc\n",
    "\n",
    "tracemalloc.start()\n",
    "\n",
    "def tracedump():\n",
    "    \n",
    "    current, peak = tracemalloc.get_traced_memory()\n",
    "    \n",
    "    print(f\"Current memory usage is {round(current / 2**30,3)} GB; Peak was {round(peak / 2**30,3)} GB\")\n",
    "    \n",
    "    tracemalloc.stop()\n",
    "    tracemalloc.start()\n",
    "\n",
    "\n",
    "Na=100\n",
    "Np=14\n",
    "\n",
    "X = Y = Z = T = linspace(-2, 2, Np)\n",
    "\n",
    "\n",
    "nc=int(Np/2)\n",
    "\n",
    "XX,YY,ZZ,TT = meshgrid(X,Y,Z,T)\n",
    "FF=random.normal(size=[Np,Np,Np,Np]);\n",
    "\n",
    "tracedump()\n",
    "\n",
    "tic('tensor_spline_4D init')\n",
    "ts=tensor_spline_4D(FF,X,Y,Z,T,full=0)\n",
    "toc(':')\n",
    "tracedump()\n",
    "d=2-1e-7\n",
    "X2 = Y2 = linspace(-d,d,Na)\n",
    "XX0,YY0 = meshgrid(X2,Y2);\n",
    "\n",
    "tic('tensor_spline_4D  [pass 1] make  ')\n",
    "ff0=ts(XX0,YY0,0.01,0.01);\n",
    "toc(':')\n",
    "tracedump()\n",
    "print('cache_count=',ts.cache_count)\n",
    "\n",
    "X2 = Y2 = linspace(-0.5, 0.5, Na)\n",
    "\n",
    "\n",
    "XX2,YY2 = meshgrid(X2,Y2);\n",
    "\n",
    "\n",
    "tic('tensor_spline_4D [pass 2] make')\n",
    "ff=ts(XX2,YY2,0.,0.);\n",
    "toc(':')\n",
    "print('cache_count=',ts.cache_count)\n",
    "tracedump()\n",
    "\n",
    "tracemalloc.stop()\n",
    "# ---- Graphics.....\n",
    "# ---- Graphics.....\n",
    "# ---- Graphics.....\n",
    "#%matplotlib inline\n",
    "#%matplotlib widget\n",
    "import matplotlib.widgets \n",
    "from mpl_toolkits import mplot3d\n",
    "import matplotlib.pyplot as plt\n",
    "#plt.ion()\n",
    "aa=[]\n",
    "plt.rcParams[\"figure.figsize\"]=7,7\n",
    "fig = plt.figure()\n",
    "ax = plt.axes(projection='3d')\n",
    "ax.plot_surface(XX[:,:,nc,nc], YY[:,:,nc,nc], FF[:,:,nc,nc], rstride=1, cstride=1,cmap='viridis', edgecolor='none');\n",
    "aa+=[ax]\n",
    "plt.show()\n",
    "plt.pause(0.1);\n",
    "fig = plt.figure()\n",
    "ax = plt.axes(projection='3d')\n",
    "ax.plot_surface(XX0, YY0, ff0, rstride=1, cstride=1,cmap='viridis', edgecolor='none');\n",
    "aa+=[ax]\n",
    "plt.show()\n",
    "plt.pause(0.1);\n",
    "fig = plt.figure()\n",
    "ax = plt.axes(projection='3d')\n",
    "ax.plot_surface(XX2, YY2, ff, rstride=1, cstride=1,cmap='viridis', edgecolor='none');\n",
    "aa+=[ax]\n",
    "plt.show()"
   ]
  },
  {
   "cell_type": "code",
   "execution_count": null,
   "id": "0427537c",
   "metadata": {},
   "outputs": [],
   "source": [
    "import tracemalloc"
   ]
  },
  {
   "cell_type": "code",
   "execution_count": null,
   "id": "dd8915e7",
   "metadata": {},
   "outputs": [],
   "source": [
    "(75**4)/2**20\n"
   ]
  },
  {
   "cell_type": "code",
   "execution_count": null,
   "id": "e25965c9",
   "metadata": {},
   "outputs": [],
   "source": [
    "ts.reset_cache()"
   ]
  },
  {
   "cell_type": "code",
   "execution_count": null,
   "id": "92de970b",
   "metadata": {},
   "outputs": [],
   "source": [
    "ts.cache_count"
   ]
  },
  {
   "cell_type": "code",
   "execution_count": null,
   "id": "53d5c0b5",
   "metadata": {},
   "outputs": [],
   "source": [
    "%matplotlib notebook"
   ]
  },
  {
   "cell_type": "code",
   "execution_count": null,
   "id": "61c2660a",
   "metadata": {},
   "outputs": [],
   "source": [
    "import matplotlib.pyplot as plt"
   ]
  },
  {
   "cell_type": "code",
   "execution_count": null,
   "id": "bfeb96c6",
   "metadata": {},
   "outputs": [],
   "source": [
    "plt.isinteractive()"
   ]
  },
  {
   "cell_type": "code",
   "execution_count": null,
   "id": "453b2a83",
   "metadata": {},
   "outputs": [],
   "source": [
    "plt.ion()"
   ]
  },
  {
   "cell_type": "code",
   "execution_count": null,
   "id": "516ac73d",
   "metadata": {},
   "outputs": [],
   "source": [
    "import ipympl"
   ]
  },
  {
   "cell_type": "code",
   "execution_count": null,
   "id": "a671bfd7",
   "metadata": {},
   "outputs": [],
   "source": [
    "dir(fig)"
   ]
  },
  {
   "cell_type": "markdown",
   "id": "86a58f4f",
   "metadata": {},
   "source": [
    "***\n",
    "HHH\n",
    "***"
   ]
  },
  {
   "cell_type": "markdown",
   "id": "368c1510",
   "metadata": {},
   "source": [
    "$\\hat{Y} = \\frac{\\hat{\\beta}_{0} }{ \\sum \\limits _{j=1} ^{p} X_{j}\\hat{\\beta}_{j}} $"
   ]
  },
  {
   "cell_type": "markdown",
   "id": "2e04992c",
   "metadata": {},
   "source": [
    "$$\\newcommand{\\braket}[1]{ \\left| { #1 } \\right\\rangle }$$\n",
    "$$\n",
    "\\boxed{\n",
    "\\braket{\\tilde J(t) }  \\equiv \\braket{J(t) }  + \\braket{\\phi(t_0) } \\delta (t - {t_0})  \\Rightarrow \n",
    "  \\braket{\\phi(t) }  = \\int\\limits_{ - \\infty }^{ + \\infty } {d{t_0}\\hat G(t-t_0)} \\braket{\\tilde J(t_0) }  \n",
    "} \n",
    "$$\n"
   ]
  },
  {
   "cell_type": "markdown",
   "id": "611701b7",
   "metadata": {},
   "source": [
    "$$\n",
    " \\left\\{ \\begin{array}{ccc}\n",
    "a & b & c \\\\\n",
    "d & e & f \\\\\n",
    "g & h & i \\end{array} \\right)\n",
    "=\n",
    " \\chi(\\lambda) = \\left| \\begin{array}{ccc}\n",
    "\\lambda - a & -b & -c \\\\\n",
    "-d & \\lambda - e & -f \\\\\n",
    "-g & -h & \\lambda - i \\end{array} \\right|.\n",
    "$$"
   ]
  },
  {
   "cell_type": "markdown",
   "id": "6e25104d",
   "metadata": {},
   "source": [
    "\\begin{equation*}\n",
    "\\mathbf{r} \\equiv \\begin{bmatrix}\n",
    "y \\\\\n",
    "\\theta\n",
    "\\end{bmatrix}\n",
    "\\label{eq1} \\tag{1}\n",
    "\\end{equation*}\n",
    "eeee \\ref{eq1}"
   ]
  },
  {
   "cell_type": "markdown",
   "id": "673d0fe5",
   "metadata": {},
   "source": []
  },
  {
   "cell_type": "code",
   "execution_count": null,
   "id": "6452f138",
   "metadata": {},
   "outputs": [],
   "source": []
  }
 ],
 "metadata": {
  "kernelspec": {
   "display_name": "Python 3 (Spyder)",
   "language": "python3",
   "name": "python3"
  },
  "language_info": {
   "codemirror_mode": {
    "name": "ipython",
    "version": 3
   },
   "file_extension": ".py",
   "mimetype": "text/x-python",
   "name": "python",
   "nbconvert_exporter": "python",
   "pygments_lexer": "ipython3",
   "version": "3.7.9"
  }
 },
 "nbformat": 4,
 "nbformat_minor": 5
}
